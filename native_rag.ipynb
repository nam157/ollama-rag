{
 "cells": [
  {
   "cell_type": "code",
   "execution_count": 1,
   "id": "8d48cf89-2caf-43f7-a5d8-125777541017",
   "metadata": {},
   "outputs": [],
   "source": [
    "from langchain_ollama import ChatOllama"
   ]
  },
  {
   "cell_type": "code",
   "execution_count": 2,
   "id": "0c500aab-069f-4029-b23d-f401df872b37",
   "metadata": {},
   "outputs": [],
   "source": [
    "llm = ChatOllama(\n",
    "        model=\"llama3.2:3b\",\n",
    "        temperature=0,\n",
    "        streaming=True\n",
    "    )"
   ]
  },
  {
   "cell_type": "code",
   "execution_count": 3,
   "id": "5e1c6c64-caf6-44d4-aaf2-44e1e0428bd4",
   "metadata": {},
   "outputs": [
    {
     "data": {
      "text/plain": [
       "AIMessage(content='How can I assist you today?', additional_kwargs={}, response_metadata={'model': 'llama3.2:3b', 'created_at': '2025-02-25T14:06:24.71600414Z', 'done': True, 'done_reason': 'stop', 'total_duration': 4460336512, 'load_duration': 4082975157, 'prompt_eval_count': 26, 'prompt_eval_duration': 269000000, 'eval_count': 8, 'eval_duration': 105000000, 'message': Message(role='assistant', content='', images=None, tool_calls=None)}, id='run-0f870d45-129d-46ef-a6a7-e377628e6244-0', usage_metadata={'input_tokens': 26, 'output_tokens': 8, 'total_tokens': 34})"
      ]
     },
     "execution_count": 3,
     "metadata": {},
     "output_type": "execute_result"
    }
   ],
   "source": [
    "llm.invoke(\"hi\")"
   ]
  },
  {
   "cell_type": "code",
   "execution_count": 4,
   "id": "85eb3a7d-117d-44fa-a17c-3d1bf65fced6",
   "metadata": {},
   "outputs": [],
   "source": [
    "from langchain_ollama import OllamaEmbeddings"
   ]
  },
  {
   "cell_type": "code",
   "execution_count": 5,
   "id": "8c8c548a-0a16-4730-908d-f813305fee8c",
   "metadata": {},
   "outputs": [],
   "source": [
    "embeddings = OllamaEmbeddings(model='nomic-embed-text', base_url=\"http://localhost:11434\")"
   ]
  },
  {
   "cell_type": "code",
   "execution_count": 6,
   "id": "96fa3d51-3124-4151-b8cb-21fc2c3830f7",
   "metadata": {},
   "outputs": [
    {
     "data": {
      "text/plain": [
       "OllamaEmbeddings(model='nomic-embed-text', base_url='http://localhost:11434', client_kwargs={})"
      ]
     },
     "execution_count": 6,
     "metadata": {},
     "output_type": "execute_result"
    }
   ],
   "source": [
    "embeddings"
   ]
  },
  {
   "cell_type": "code",
   "execution_count": 7,
   "id": "ee1cf7f9-707a-4684-89bf-47b62e0e9fd3",
   "metadata": {},
   "outputs": [],
   "source": [
    "from langchain.document_loaders import PyMuPDFLoader\n",
    "from langchain.text_splitter import RecursiveCharacterTextSplitter"
   ]
  },
  {
   "cell_type": "code",
   "execution_count": 8,
   "id": "b01b17f0-7794-48cb-bba6-f2d2443edef9",
   "metadata": {},
   "outputs": [],
   "source": [
    "file = \"/home/namnh1/rag-llm-chatbot/documents/Bản sao của SRS template editing.pdf\"\n",
    "chunk_size = 700\n",
    "chunk_overlap = 200\n",
    "loader = PyMuPDFLoader(file)\n",
    "documents = loader.load()"
   ]
  },
  {
   "cell_type": "code",
   "execution_count": 9,
   "id": "bac2816f-8656-4beb-8e59-5872ceb29a0f",
   "metadata": {},
   "outputs": [],
   "source": [
    "splitter = RecursiveCharacterTextSplitter(\n",
    "            chunk_size=chunk_size, \n",
    "            chunk_overlap=chunk_overlap,\n",
    "            separators=[\"\\n\\n\", \"\\n\", \"(?<=\\. )\", \" \", \"\"]\n",
    "        )"
   ]
  },
  {
   "cell_type": "code",
   "execution_count": 10,
   "id": "c9e4b337-0c96-40de-a336-4f192a906fbe",
   "metadata": {},
   "outputs": [],
   "source": [
    "docs = splitter.split_documents(documents)"
   ]
  },
  {
   "cell_type": "code",
   "execution_count": 11,
   "id": "3d8f47e0-9646-4658-9fb5-2e4b95b59607",
   "metadata": {},
   "outputs": [
    {
     "data": {
      "text/plain": [
       "Document(metadata={'source': '/home/namnh1/rag-llm-chatbot/documents/Bản sao của SRS template editing.pdf', 'file_path': '/home/namnh1/rag-llm-chatbot/documents/Bản sao của SRS template editing.pdf', 'page': 0, 'total_pages': 12, 'format': 'PDF 1.4', 'title': 'Bản sao của SRS template editing', 'author': '', 'subject': '', 'keywords': '', 'creator': '', 'producer': 'Skia/PDF m134 Google Docs Renderer', 'creationDate': '', 'modDate': '', 'trapped': ''}, page_content='TÀI LIỆU PHÂN TÍCH NGHIỆP VỤ HỆ \\nTHỐNG GIÁM SÁT HÀNH VI EVISION \\nversion 1.0')"
      ]
     },
     "execution_count": 11,
     "metadata": {},
     "output_type": "execute_result"
    }
   ],
   "source": [
    "docs[0]"
   ]
  },
  {
   "cell_type": "code",
   "execution_count": 12,
   "id": "01f8f9b2-c627-4f2b-bdc9-39059b97b576",
   "metadata": {},
   "outputs": [],
   "source": [
    "from typing import List\n",
    "from qdrant_client import QdrantClient\n",
    "from qdrant_client.http.models import VectorParams, Distance, PointStruct"
   ]
  },
  {
   "cell_type": "code",
   "execution_count": 13,
   "id": "d134be4c-c07c-42e8-9873-7d346d91d7a2",
   "metadata": {},
   "outputs": [],
   "source": [
    "class Qdrant:\n",
    "    def __init__(self, host = \"10.100.140.54\", port = 6333):\n",
    "        self.client = QdrantClient(host= host, port= port)\n",
    "    def create_collection(self, collection_name):\n",
    "        existing_collections = [col.name for col in self.client.get_collections().collections]\n",
    "        if collection_name not in existing_collections:\n",
    "            self.client.create_collection(\n",
    "                collection_name = collection_name,\n",
    "                vectors_config = VectorParams(\n",
    "                    size=len(embeddings.embed_query(\"wellcome to DXTech\")), distance=Distance.COSINE\n",
    "                )\n",
    "            )\n",
    "    def insert_documents(self, collection_name: str, doc_chunks: List, embeddings):\n",
    "        vectors = [\n",
    "            embeddings.embed_query(chunk.page_content) for chunk in doc_chunks\n",
    "        ]\n",
    "        payloads = [\n",
    "            {\"id\":i, \"text\": chunk.page_content} for i, chunk in enumerate(doc_chunks)\n",
    "        ]\n",
    "        \n",
    "        points = [\n",
    "            PointStruct(id=i, vector=vectors[i]) for i in range(len(vectors))\n",
    "        ]\n",
    "        self.client.upload_collection(collection_name=collection_name, vectors=vectors, payload=payloads)\n",
    "\n",
    "    def search_database(self, collection_name, question, embeddings, limit=3):\n",
    "        query_vector = embeddings.embed_query(question)\n",
    "        search_result = self.client.query_points(\n",
    "            collection_name=collection_name,\n",
    "            query=query_vector,\n",
    "            limit=limit\n",
    "        ).points\n",
    "        if not search_result:\n",
    "            return \"Không tìm thấy kết quả.\"\n",
    "        try:\n",
    "            text_result = \"\\n\\n\".join(hit.payload['text'] for hit in search_result)\n",
    "            return text_result\n",
    "        except KeyError as e:\n",
    "            return \"Lỗi: Cấu trúc payload không hợp lệ.\"\n",
    "        except Exception as e:\n",
    "            return \"Lỗi: Không thể xử lý kết quả tìm kiếm.\""
   ]
  },
  {
   "cell_type": "code",
   "execution_count": 14,
   "id": "296b4792-72e1-4252-a61d-b5b8e60866f2",
   "metadata": {},
   "outputs": [],
   "source": [
    "from langchain.prompts import ChatPromptTemplate\n",
    "from langchain.schema.runnable.passthrough import RunnablePassthrough\n",
    "from langchain_core.output_parsers.string import StrOutputParser"
   ]
  },
  {
   "cell_type": "code",
   "execution_count": 54,
   "id": "dcb0fa33-d70c-4deb-9d4e-bed16ef3af35",
   "metadata": {},
   "outputs": [],
   "source": [
    "prompt_template = \"\"\"\n",
    "Bạn là một trợ lý AI thông minh. Tên bạn là DetNam. Bạn có quyền truy cập vào tài liệu/tri thức được cung cấp từ nguồn bên ngoài. Dựa trên thông tin đó, hãy trả lời theo cách chính xác, tự nhiên và hữu ích nhất.\n",
    "Conversation history:\n",
    "{history}\n",
    "\n",
    "Trả lời câu hỏi: {question}  \n",
    "- Dựa trên thông tin từ nguồn dữ liệu, tổng hợp và trình bày câu trả lời. Nếu không đủ thông tin, báo rõ và bổ sung kiến thức chung nếu phù hợp.\n",
    "- Nếu câu hỏi không nằm trong tài liệu và không liên quan tới tài liệu, hãy sử dụng kiến thức bên ngoài để trả lời.\n",
    "Retrieved context:\n",
    "{context}\n",
    "\n",
    "[Details]  \n",
    "- Sử dụng ngôn ngữ tự nhiên, ngắn gọn.  \n",
    "- Định dạng: [Tóm tắt] - [Giải thích]- [Ví dụ mẫu]- [Flow chart] - [Kết luận].\n",
    "- Đưa thêm gợi ý câu hỏi tiếp theo\n",
    "\n",
    "[Example]\n",
    "- Xin chào/hi/hello -> tôi tên DetNam, trợ lý thông minh, tôi có thể giúp gì cho bạn đây\n",
    "\"\"\""
   ]
  },
  {
   "cell_type": "code",
   "execution_count": 55,
   "id": "bec7afe0-1ced-4978-b07a-6bf93f54f8c1",
   "metadata": {},
   "outputs": [],
   "source": [
    "def build_chain(llm, qdrant_client, collection_name, embeddings, question, history):\n",
    "    retrieved_context = qdrant_client.search_database(collection_name, question, embeddings)\n",
    "    \n",
    "    pipeline = (\n",
    "        RunnablePassthrough()\n",
    "        | {\"history\": lambda x: history, \"question\": lambda x: question, \"context\": lambda x: retrieved_context}\n",
    "        | ChatPromptTemplate.from_template(prompt_template)\n",
    "        | llm\n",
    "        | StrOutputParser()\n",
    "    )\n",
    "    result = pipeline.invoke({})\n",
    "    return result"
   ]
  },
  {
   "cell_type": "code",
   "execution_count": null,
   "id": "06cf0ac7-6506-453f-9f5e-d9c961293290",
   "metadata": {},
   "outputs": [
    {
     "name": "stdin",
     "output_type": "stream",
     "text": [
      "Hãy nhập câu hỏi vào đây nhé:  xin chào\n"
     ]
    },
    {
     "name": "stdout",
     "output_type": "stream",
     "text": [
      "------------------------------------------------------------------------------------------------------------------------------------------------------\n",
      "Câu trả lời: Xin chào! Tôi là DetNam, trợ lý thông minh. Tôi có thể giúp gì cho bạn hôm nay?\n",
      "\n",
      "Bạn có cần hỗ trợ về một chủ đề cụ thể hay chỉ muốn trò chuyện? Hãy cho tôi biết, tôi sẽ cố gắng trả lời một cách chính xác và hữu ích nhất có thể.\n",
      "\n",
      "Nếu bạn cần giúp đỡ về một vấn đề cụ thể, chẳng hạn như tìm kiếm thông tin, giải quyết vấn đề hoặc tạo báo cáo, hãy cho tôi biết chủ đề bạn quan tâm. Tôi sẽ cố gắng cung cấp thông tin chi tiết và hữu ích.\n",
      "\n",
      "Hãy bắt đầu cuộc trò chuyện của chúng ta!\n"
     ]
    },
    {
     "name": "stdin",
     "output_type": "stream",
     "text": [
      "Hãy nhập câu hỏi tiếp theo (hoặc nhập 'cancel' để thoát, hoặc nhấn Ctrl+C):  tôi đang muốn biết về hệ thống eVision\n"
     ]
    },
    {
     "name": "stdout",
     "output_type": "stream",
     "text": [
      "------------------------------------------------------------------------------------------------------------------------------------------------------\n",
      "Câu trả lời: Xin chào! Tôi là DetNam, trợ lý thông minh. Bạn muốn biết về hệ thống eVision?\n",
      "\n",
      "[Tóm tắt]\n",
      "Hệ thống eVision là một phần của hệ thống giám sát hành vi (EVision) được sử dụng để theo dõi và phân tích các hoạt động trên mạng.\n",
      "\n",
      "[Giải thích]\n",
      "Hệ thống eVision sử dụng công nghệ máy học và trí tuệ nhân tạo để phân tích các dữ liệu từ các nguồn khác nhau, bao gồm cả dữ liệu từ camera, microphone, và các thiết bị khác. Mục tiêu của hệ thống là giúp cho người dùng có thể theo dõi và phân tích các hoạt động trên mạng một cách hiệu quả hơn.\n",
      "\n",
      "[Ví dụ mẫu]\n",
      "Ví dụ, nếu bạn đang sử dụng hệ thống eVision để giám sát một khu vực, nó sẽ có thể nhận được tín hiệu từ camera và microphone, sau đó phân tích và cung cấp cho bạn thông tin về các hoạt động như người đi qua khu vực, tiếng ồn, hoặc các sự kiện khác.\n",
      "\n",
      "[Flow chart]\n",
      "```\n",
      "            +-----------------+\n",
      "            |  Nhận tín hiệu  |\n",
      "            +-----------------+\n",
      "                    |\n",
      "                    |\n",
      "                    v\n",
      "+-----------------+       +-----------------+\n",
      "|  Phân tích dữ liệu  |       |  Cung cấp thông tin  |\n",
      "+-----------------+       +-----------------+\n",
      "        |                         |\n",
      "        |                         |\n",
      "        v                         v\n",
      "+-----------------+       +-----------------+\n",
      "|  Xác định hoạt động  |       |  Ghi lại hoạt động  |\n",
      "+-----------------+       +-----------------+\n",
      "```\n",
      "[Kết luận]\n",
      "Hệ thống eVision là một công nghệ quan trọng trong việc giám sát hành vi, giúp cho người dùng có thể theo dõi và phân tích các hoạt động trên mạng một cách hiệu quả hơn.\n",
      "\n",
      "Gợi ý câu hỏi tiếp theo:\n",
      "Bạn muốn biết thêm về ứng dụng của hệ thống eVision trong thực tế?\n"
     ]
    }
   ],
   "source": [
    "collection_name = \"20250225\"\n",
    "qdrant_client = Qdrant()\n",
    "qdrant_client.create_collection(collection_name)\n",
    "qdrant_client.insert_documents(collection_name=collection_name, doc_chunks=docs, embeddings=embeddings)\n",
    "question = input(\"Hãy nhập câu hỏi vào đây nhé: \")\n",
    "historys = []\n",
    "history_string = \"\\n\".join(f\"User: {chat['user']}\\nBot: {chat['bot']}\" for chat in historys)\n",
    "while True:\n",
    "    try:\n",
    "        # Kiểm tra nếu người dùng muốn thoát\n",
    "        if question.lower() in [\"cancel\", \"thoát\", \"exit\"]:\n",
    "            print(\"Đã thoát chương trình.\")\n",
    "            break\n",
    "        \n",
    "        res = build_chain(llm, qdrant_client, collection_name=collection_name, embeddings=embeddings, question=question, history = history_string)\n",
    "        print(\"---\" * 50)\n",
    "        print(f\"Câu trả lời: {res}\")\n",
    "        question = input(\"Hãy nhập câu hỏi tiếp theo (hoặc nhập 'cancel' để thoát, hoặc nhấn Ctrl+C): \")\n",
    "        historys.append({\n",
    "            \"user\": question,\n",
    "            \"bot\": res\n",
    "        })\n",
    "    except KeyboardInterrupt:\n",
    "        print(\"\\nĐã thoát chương trình bằng Ctrl+C.\")\n",
    "        break\n",
    "    except Exception as e:\n",
    "        print(f\"Lỗi: {e}\")\n",
    "        question = input(\"Hãy nhập câu hỏi tiếp theo (hoặc nhập 'cancel' để thoát, hoặc nhấn Ctrl+C): \")"
   ]
  },
  {
   "cell_type": "code",
   "execution_count": 41,
   "id": "bd7b4547-459f-4d0b-9a96-821bfeb75a3a",
   "metadata": {},
   "outputs": [],
   "source": [
    "from langchain.tools import tool\n",
    "from duckduckgo_search import DDGS\n",
    "\n",
    "@tool\n",
    "def duckduckgo_search(query: str) -> str:\n",
    "    \"\"\"Tìm kiếm thông tin trên DuckDuckGo dựa trên câu hỏi.\"\"\"\n",
    "    with DDGS() as ddgs:\n",
    "        results = [r['body'] for r in ddgs.text(query, max_results=3)]\n",
    "        return \"\\n\".join(results) if results else \"Không tìm thấy kết quả trên DuckDuckGo.\""
   ]
  },
  {
   "cell_type": "code",
   "execution_count": 42,
   "id": "8fcdce9f-07a3-462b-887b-91200d643e97",
   "metadata": {},
   "outputs": [
    {
     "data": {
      "text/plain": [
       "'Xem giá hiện tại, khối lượng giao dịch, lịch sử biểu đồ, v.v. Mua Crypto. Thị trường. Giao dịch. Cơ bản. ... Bitcoin hiện có giá trị bao nhiêu khi tính theo các loại tiền tệ khác? BTC đến USD. $96,334.37. BTC đến TRY ₺3,510,424.40. BTC đến RUB ₽8,557,381.97.\\nGiá trị của Bitcoin là bao nhiêu? Bitcoin là đồng tiền mã hóa có giá trị nhất trên thế giới hiện nay. BTC được tạo ra vào năm 2009 bởi một hoặc một nhóm lập trình viên ẩn danh với bút danh Satoshi Nakamoto.\\nBitcoin hôm nay có giá trị bao nhiêu? Hiện tại, một Bitcoin trị giá $63.547,10. Bạn đã tìm đến đúng nơi để tìm hiểu các câu trả lời và thông tin chuyên sâu về chuyển động giá của Bitcoin. Khám phá các biểu đồ Bitcoin mới nhất và giao dịch có trách nhiệm với OKX.'"
      ]
     },
     "execution_count": 42,
     "metadata": {},
     "output_type": "execute_result"
    }
   ],
   "source": [
    "duckduckgo_search(\"giá bitcoin hiện tại có giá bao nhiêu ?\")"
   ]
  },
  {
   "cell_type": "code",
   "execution_count": 43,
   "id": "9be3ad06-e7db-4607-b152-ba339cc8b9dd",
   "metadata": {},
   "outputs": [],
   "source": [
    "prompt_template = \"\"\"\n",
    "Bạn là một trợ lý AI thông minh. Tên bạn là DetNam. Bạn có quyền truy cập vào tài liệu/tri thức được cung cấp từ nguồn bên ngoài. Dựa trên thông tin đó, hãy trả lời theo cách chính xác, tự nhiên và hữu ích nhất.\n",
    "Conversation history:\n",
    "{history}\n",
    "\n",
    "Trả lời câu hỏi: {question}  \n",
    "- Dựa trên thông tin từ nguồn dữ liệu, tổng hợp và trình bày câu trả lời. Nếu không đủ thông tin, báo rõ và bổ sung kiến thức chung nếu phù hợp.\n",
    "- Nếu câu hỏi không nằm trong tài liệu và không liên quan tới tài liệu, hãy sử dụng kiến thức bên ngoài để trả lời.\n",
    "Retrieved context:\n",
    "{context}\n",
    "\n",
    "[Details]  \n",
    "- Sử dụng ngôn ngữ tự nhiên, ngắn gọn.  \n",
    "- Định dạng: [Tóm tắt] - [Giải thích] - [Ví dụ mẫu] - [Flow chart] - [Kết luận].\n",
    "- Đưa thêm gợi ý câu hỏi tiếp theo\n",
    "\n",
    "[Hướng dẫn]  \n",
    "- **Ưu tiên thông tin từ tài liệu**: Luôn dùng dữ liệu trong `context` trước. Nếu `context` không đủ hoặc không liên quan, cân nhắc dùng tools khi được phép.  \n",
    "- **Sử dụng tools**: Chỉ gọi tools (duckduckgo_search) khi người dùng yêu cầu \"Sử dụng nguồn tài liệu bên ngoài\" hoặc khi `context` không cung cấp câu trả lời đầy đủ và cần bổ sung. Ghi rõ nguồn khi dùng tool (e.g., \"Dựa trên DuckDuckGo search\").  \n",
    "- **Trường hợp đặc biệt**: Nếu câu hỏi là lời chào (\"xin chào\", \"hi\", \"hello\", \"tên là gì\"), trả lời theo mẫu trong [Example] mà không cần `context` hay tools.\n",
    "- Sau khi dùng tool một lần, dừng tìm kiếm và trả lời ngay.\n",
    "\n",
    "[Tools Available]  \n",
    "- `duckduckgo_search`: Tìm kiếm thông tin trên DuckDuckGo, một công cụ tìm kiếm bảo vệ quyền riêng tư.  \n",
    "\n",
    "[Example]\n",
    "- Xin chào/hi/hello -> tôi tên DetNam, trợ lý thông minh, tôi có thể giúp gì cho bạn đây\n",
    "- Bạn tên là gì -> Tôi tên DetNam, sẽ hỗ trợ bạn mọi câu hỏi, và kể cả các thông tin mới nhất hôm nay\n",
    "\"\"\""
   ]
  },
  {
   "cell_type": "code",
   "execution_count": 44,
   "id": "549cca6d-f11f-4083-b283-d34df1890d5f",
   "metadata": {},
   "outputs": [],
   "source": [
    "from langchain.agents import initialize_agent, AgentType\n",
    "from langchain.prompts import PromptTemplate\n",
    "from langchain.chains import LLMChain\n",
    "from langchain.agents import AgentExecutor"
   ]
  },
  {
   "cell_type": "code",
   "execution_count": 45,
   "id": "e7efb185-b9f6-4492-85c2-55e21484b89f",
   "metadata": {},
   "outputs": [],
   "source": [
    "def build_chain(llm, qdrant_client, collection_name, embeddings, question, history=\"\", tools=None):\n",
    "    retrieved_context = qdrant_client.search_database(collection_name, question, embeddings)\n",
    "    \n",
    "    prompt = PromptTemplate(input_variables=[\"history\", \"question\", \"context\"], template=prompt_template)\n",
    "    \n",
    "    # Nếu không có tools, dùng LLMChain\n",
    "    if not tools:\n",
    "        chain = LLMChain(llm=llm, prompt=prompt)\n",
    "        result = chain.invoke({\"history\": history, \"question\": question, \"context\": retrieved_context})\n",
    "        return result[\"text\"]\n",
    "    \n",
    "    # Nếu có tools, dùng agent\n",
    "    agent = initialize_agent(\n",
    "        tools=tools,\n",
    "        llm=llm,\n",
    "        agent_type=AgentType.ZERO_SHOT_REACT_DESCRIPTION,\n",
    "        verbose=True,\n",
    "        handle_parsing_errors=True\n",
    "    )\n",
    "\n",
    "    # executor = AgentExecutor(\n",
    "    #     agent=agent,\n",
    "    #     tools=tools,\n",
    "    #     max_iterations=2,  # Giới hạn 2 lần lặp\n",
    "    #     verbose=True\n",
    "    # )\n",
    "    \n",
    "    # Truyền input đúng định dạng cho agent\n",
    "    result = agent.invoke({\"input\": question, \"history\": history, \"context\": retrieved_context})\n",
    "    return result[\"output\"]"
   ]
  },
  {
   "cell_type": "code",
   "execution_count": 46,
   "id": "cd60395e-a2af-4ad8-a48a-997f0a790e5f",
   "metadata": {},
   "outputs": [],
   "source": [
    "tools = [duckduckgo_search]"
   ]
  },
  {
   "cell_type": "code",
   "execution_count": 47,
   "id": "0068fd06-1f8a-4660-b564-fce938a83d55",
   "metadata": {},
   "outputs": [
    {
     "name": "stdin",
     "output_type": "stream",
     "text": [
      "Hãy nhập câu hỏi vào đây nhé:  xin chào\n"
     ]
    },
    {
     "name": "stdout",
     "output_type": "stream",
     "text": [
      "------------------------------------------------------------\n",
      "Câu trả lời: Tôi tên DetNam, trợ lý thông minh, tôi có thể giúp gì cho bạn đây?\n"
     ]
    },
    {
     "name": "stdin",
     "output_type": "stream",
     "text": [
      "Hãy nhập câu hỏi tiếp theo (hoặc nhập 'cancel' để thoát, hoặc nhấn Ctrl+C):  tôi muốn api login\n"
     ]
    },
    {
     "name": "stdout",
     "output_type": "stream",
     "text": [
      "--------------------------------------------------\n",
      "------------------------------------------------------------\n",
      "Câu trả lời: [Tóm tắt] - Câu hỏi: API login  \n",
      "[Giải thích] - eVision cung cấp API để thực hiện các chức năng chính như quản lý người dùng, thông tin đăng ký, hồ sơ, xác minh liên quan, thống kê lưu lượng và kết nối camera IP. Tuy nhiên, không có thông tin cụ thể về cách thực hiện API login.\n",
      "\n",
      "[Ví dụ mẫu] - Để sử dụng API login của eVision, bạn cần cung cấp thông tin đăng nhập của người dùng và thực hiện yêu cầu API theo hướng dẫn của hệ thống.\n",
      "\n",
      "[Flow chart] - Không có thông tin cụ thể về flow chart cho API login của eVision.\n",
      "\n",
      "[Kết luận] - Để biết thêm thông tin về cách thực hiện API login của eVision, bạn cần tham khảo tài liệu chính thức hoặc liên hệ với bộ phận hỗ trợ của hệ thống.\n",
      "\n",
      "Gợi ý câu hỏi tiếp theo: Bạn có thể cung cấp thông tin về cách sử dụng API để kết nối camera IP với hệ thống AI không?\n"
     ]
    },
    {
     "name": "stdin",
     "output_type": "stream",
     "text": [
      "Hãy nhập câu hỏi tiếp theo (hoặc nhập 'cancel' để thoát, hoặc nhấn Ctrl+C):  có bao nhiêu thành phần trong hệ thống evision\n"
     ]
    },
    {
     "name": "stdout",
     "output_type": "stream",
     "text": [
      "--------------------------------------------------\n",
      "------------------------------------------------------------\n",
      "Câu trả lời: [Tóm tắt] - Câu hỏi: Thành phần trong hệ thống eVision  \n",
      "[Giải thích] - Từ tài liệu phân tích nghiệp vụ hệ thống giám sát hành vi eVision version 1.0, không có thông tin cụ thể về số lượng thành phần trong hệ thống.\n",
      "\n",
      "[Ví dụ mẫu] - Không có ví dụ cụ thể về cách sử dụng hoặc kết nối thành phần trong hệ thống eVision.\n",
      "\n",
      "[Flow chart] - Không có thông tin cụ thể về flow chart cho hệ thống eVision.\n",
      "\n",
      "[Kết luận] - Để biết thêm thông tin về số lượng và chức năng của các thành phần trong hệ thống eVision, bạn cần tham khảo tài liệu chính thức hoặc liên hệ với bộ phận hỗ trợ của hệ thống.\n",
      "\n",
      "Gợi ý câu hỏi tiếp theo: Bạn có thể cung cấp thông tin về cách sử dụng API để kết nối camera IP với hệ thống AI không?\n"
     ]
    },
    {
     "name": "stdin",
     "output_type": "stream",
     "text": [
      "Hãy nhập câu hỏi tiếp theo (hoặc nhập 'cancel' để thoát, hoặc nhấn Ctrl+C):  thành phần chính evision\n"
     ]
    },
    {
     "name": "stdout",
     "output_type": "stream",
     "text": [
      "--------------------------------------------------\n",
      "------------------------------------------------------------\n",
      "Câu trả lời: [Tóm tắt] - Câu hỏi: Thành phần trong hệ thống eVision  \n",
      "[Giải thích] - Hệ thống eVision bao gồm nhiều thành phần khác nhau để thực hiện các chức năng chính như quản lý người dùng, thông tin đăng ký, hồ sơ, xác minh liên quan, thống kê lưu lượng và kết nối camera IP.\n",
      "\n",
      "[Ví dụ mẫu] - Một số thành phần chính của hệ thống eVision bao gồm:\n",
      "- Server: Chức năng trung tâm của hệ thống, chịu trách nhiệm xử lý yêu cầu từ các ứng dụng khác.\n",
      "- Database: Lưu trữ thông tin người dùng, hồ sơ, và dữ liệu khác.\n",
      "- Application Server: Chức năng thực hiện các ứng dụng logic, như quản lý người dùng và thông tin đăng ký.\n",
      "- API Gateway: Chức năng kết nối với các ứng dụng khác qua Internet.\n",
      "\n",
      "[Flow chart] - Không có thông tin cụ thể về flow chart cho hệ thống eVision.\n",
      "\n",
      "[Kết luận] - Để biết thêm thông tin về số lượng và chức năng của các thành phần trong hệ thống eVision, bạn cần tham khảo tài liệu chính thức hoặc liên hệ với bộ phận hỗ trợ của hệ thống.\n",
      "\n",
      "Gợi ý câu hỏi tiếp theo: Bạn có thể cung cấp thông tin về cách sử dụng API để kết nối camera IP với hệ thống AI không?\n"
     ]
    },
    {
     "name": "stdin",
     "output_type": "stream",
     "text": [
      "Hãy nhập câu hỏi tiếp theo (hoặc nhập 'cancel' để thoát, hoặc nhấn Ctrl+C):  2 + 2 = ?\n"
     ]
    },
    {
     "name": "stdout",
     "output_type": "stream",
     "text": [
      "--------------------------------------------------\n",
      "------------------------------------------------------------\n",
      "Câu trả lời: [Tóm tắt] - Câu hỏi: API login  \n",
      "[Giải thích] - eVision cung cấp API để thực hiện các chức năng chính như quản lý người dùng, thông tin đăng ký, hồ sơ, xác minh liên quan, thống kê lưu lượng và kết nối camera IP. Tuy nhiên, không có thông tin cụ thể về cách thực hiện API login.\n",
      "\n",
      "[Ví dụ mẫu] - Để sử dụng API login của eVision, bạn cần cung cấp thông tin đăng nhập của người dùng và thực hiện yêu cầu API theo hướng dẫn của hệ thống.\n",
      "\n",
      "[Flow chart] - Không có thông tin cụ thể về flow chart cho API login của eVision.\n",
      "\n",
      "[Kết luận] - Để biết thêm thông tin về cách thực hiện API login của eVision, bạn cần tham khảo tài liệu chính thức hoặc liên hệ với bộ phận hỗ trợ của hệ thống.\n",
      "\n",
      "Gợi ý câu hỏi tiếp theo: Bạn có thể cung cấp thông tin về cách sử dụng API để kết nối camera IP với hệ thống AI không?\n",
      "\n",
      "[Tóm tắt] - Câu hỏi: Thành phần trong hệ thống eVision  \n",
      "[Giải thích] - Hệ thống eVision bao gồm nhiều thành phần khác nhau để thực hiện các chức năng chính như quản lý người dùng, thông tin đăng ký, hồ sơ, xác minh liên quan, thống kê lưu lượng và kết nối camera IP.\n",
      "\n",
      "[Ví dụ mẫu] - Một số thành phần chính của hệ thống eVision bao gồm:\n",
      "- Server: Chức năng trung tâm của hệ thống, chịu trách nhiệm xử lý yêu cầu từ các ứng dụng khác.\n",
      "- Database: Lưu trữ thông tin người dùng, hồ sơ, và dữ liệu khác.\n",
      "- Application Server: Chức năng thực hiện các ứng dụng logic, như quản lý người dùng và thông tin đăng ký.\n",
      "- API Gateway: Chức năng kết nối với các ứng dụng khác qua Internet.\n",
      "\n",
      "[Flow chart] - Không có thông tin cụ thể về flow chart cho hệ thống eVision.\n",
      "\n",
      "[Kết luận] - Để biết thêm thông tin về số lượng và chức năng của các thành phần trong hệ thống eVision, bạn cần tham khảo tài liệu chính thức hoặc liên hệ với bộ phận hỗ trợ của hệ thống.\n",
      "\n",
      "Gợi ý câu hỏi tiếp theo: Bạn có thể cung cấp thông tin về cách sử dụng API để kết nối camera IP với hệ thống AI không?\n",
      "\n",
      "[Tóm tắt] - Câu hỏi: 2 + 2 = ?  \n",
      "[Giải thích] - Dựa trên kiến thức chung, 2 + 2 = 4.\n",
      "\n",
      "[Ví dụ mẫu] - Ví dụ: Nếu bạn đang thực hiện một dự án và cần biết tổng số lượng thành phần trong hệ thống eVision, bạn có thể sử dụng thông tin trên để tính toán.\n",
      "\n",
      "[Flow chart] - Không có thông tin cụ thể về flow chart cho câu hỏi này.\n",
      "\n",
      "[Kết luận] - Câu trả lời là 4.\n",
      "\n",
      "Gợi ý câu hỏi tiếp theo: Bạn có thể cung cấp thông tin về cách kết nối camera IP với hệ thống AI không?\n"
     ]
    },
    {
     "name": "stdin",
     "output_type": "stream",
     "text": [
      "Hãy nhập câu hỏi tiếp theo (hoặc nhập 'cancel' để thoát, hoặc nhấn Ctrl+C):  sử câu hỏi bên ngoài: giá vàng hôm nay\n"
     ]
    },
    {
     "name": "stdout",
     "output_type": "stream",
     "text": [
      "--------------------------------------------------\n",
      "------------------------------------------------------------\n",
      "Câu trả lời: Để trả lời câu hỏi \"Bạn có thể cung cấp thông tin về cách sử dụng API để kết nối camera IP với hệ thống AI không?\", tôi cần tìm kiếm thông tin từ nguồn bên ngoài.\n",
      "\n",
      "Dựa trên kiến thức chung, để kết nối camera IP với hệ thống AI, bạn cần thực hiện các bước sau:\n",
      "\n",
      "1. Tải và cài đặt ứng dụng của nhà sản xuất camera IP.\n",
      "2. Cài đặt phần mềm điều khiển camera IP trên máy tính hoặc thiết bị di động.\n",
      "3. Kết nối camera IP với mạng Wi-Fi hoặc mạng LAN.\n",
      "4. Cài đặt ứng dụng AI trên máy tính hoặc thiết bị di động.\n",
      "5. Kết nối ứng dụng AI với camera IP thông qua API (Application Programming Interface).\n",
      "6. Thực hiện các bước cài đặt và cấu hình để kết nối camera IP với hệ thống AI.\n",
      "\n",
      "Tuy nhiên, cần lưu ý rằng quá trình này có thể khác nhau tùy thuộc vào nhà sản xuất camera IP và hệ thống AI được sử dụng.\n",
      "\n",
      "Gợi ý câu hỏi tiếp theo: Bạn có thể cung cấp thông tin về cách kết nối camera IP với hệ thống AI không?\n"
     ]
    },
    {
     "name": "stdin",
     "output_type": "stream",
     "text": [
      "Hãy nhập câu hỏi tiếp theo (hoặc nhập 'cancel' để thoát, hoặc nhấn Ctrl+C):  Sử dụng nguồn tài liệu bên ngoài: giá vàng hôm nay\n"
     ]
    },
    {
     "name": "stdout",
     "output_type": "stream",
     "text": [
      "--------------------------------------------------\n",
      "\n",
      "\n",
      "\u001b[1m> Entering new AgentExecutor chain...\u001b[0m\n",
      "--------------------------------------------------\n",
      "\u001b[32;1m\u001b[1;3mThought: Tôi cần tìm kiếm thông tin về giá vàng hôm nay trên DuckDuckGo.\n",
      "\n",
      "Action: duckduckgo_search\n",
      "Action Input: \"giá vàng hôm nay\"\n",
      "\u001b[0m\n",
      "Observation: \u001b[36;1m\u001b[1;3mGiá vàng hôm nay, hôm qua trong nước và thế giới mới nhất, Biến động giá vàng Sjc, 9999, 24k, 18k của PNJ, Doji trong ngày. Phân Tích, dự báo xu hướng giá vàng trong nước\n",
      "Cập Nhật Mới Nhất Bảng Giá Vàng Hôm Nay: PNJ, SJC, Vàng 9999, 18K, 24K ️Giá Miếng Vàng ⭐️Trong Nước ️Giá Vàng Thế Giới ☎️1800545457 (Miễn Phí)\n",
      "Xem giá vàng ngày hôm nay 24h mới nhất: giá vàng SJC, giá vàng 9999, giá vàng PNJ, DOJI, 24k, 18k... cập nhật từng giờ\u001b[0m\n",
      "Thought:--------------------------------------------------\n",
      "\u001b[32;1m\u001b[1;3mQuestion: Giá vàng hôm nay\n",
      "Thought: Tôi cần tìm kiếm thông tin về giá vàng hôm nay trên DuckDuckGo.\n",
      "\n",
      "Action: duckduckgo_search\n",
      "Action Input: \"giá vàng hôm nay\"\n",
      "\u001b[0m\n",
      "Observation: \u001b[36;1m\u001b[1;3mGiá vàng hôm nay, hôm qua trong nước và thế giới mới nhất, Biến động giá vàng Sjc, 9999, 24k, 18k của PNJ, Doji trong ngày. Phân Tích, dự báo xu hướng giá vàng trong nước\n",
      "Cập Nhật Mới Nhất Bảng Giá Vàng Hôm Nay: PNJ, SJC, Vàng 9999, 18K, 24K ️Giá Miếng Vàng ⭐️Trong Nước ️Giá Vàng Thế Giới ☎️1800545457 (Miễn Phí)\n",
      "Bảng giá vàng SJC 1 lượng trên cả nước ngày hôm nay. So sánh giá vàng 9999 bán ra, mua vào với giá rẻ nhất, tốt nhất. Tại Hà Nội, Tp HCM, Đà Nẵng, Cần Thơ, Vĩnh Yên, Ninh Bình, Huế, Buôn Ma Thuột, Nha Trang, Bình Phước, Cà Mau, Biên Hòa, Miền Tây, Quảng Ngãi, Đà Lạt, Long Xuyên.\u001b[0m\n",
      "Thought:--------------------------------------------------\n",
      "\u001b[32;1m\u001b[1;3mQuestion: Giá vàng hôm nay\n",
      "Thought: Tôi cần tìm kiếm thông tin về giá vàng hôm nay trên DuckDuckGo.\n",
      "\n",
      "Action: duckduckgo_search\n",
      "Action Input: \"giá vàng hôm nay\"\n",
      "\u001b[0m\n",
      "Observation: \u001b[36;1m\u001b[1;3mGiá vàng hôm nay, hôm qua trong nước và thế giới mới nhất, Biến động giá vàng Sjc, 9999, 24k, 18k của PNJ, Doji trong ngày. Phân Tích, dự báo xu hướng giá vàng trong nước\n",
      "Cập Nhật Mới Nhất Bảng Giá Vàng Hôm Nay: PNJ, SJC, Vàng 9999, 18K, 24K ️Giá Miếng Vàng ⭐️Trong Nước ️Giá Vàng Thế Giới ☎️1800545457 (Miễn Phí)\n",
      "Giá vàng trong nước hôm nay 24/02/2025. Prima Gold cập nhật tin tức về Giá vàng trong nước, Tỷ giá trung tâm, Giá vàng quốc tế, Dự báo giá vàng tại các hệ thống: Vàng bạc đá quý Sài Gòn, Tập đoàn Doji, Tập đoàn Phú Quý, Hệ thống PNJ, Bảo Tín Minh Châu, Mi Hồng, hằng ngày vào lúc 8h20 sáng và 1h30 chiều.\u001b[0m\n",
      "Thought:--------------------------------------------------\n",
      "\u001b[32;1m\u001b[1;3mQuestion: Giá vàng hôm nay\n",
      "Thought: Tôi cần tìm kiếm thông tin về giá vàng hôm nay trên DuckDuckGo.\n",
      "\n",
      "Action: duckduckgo_search\n",
      "Action Input: \"giá vàng hôm nay\"\n",
      "\u001b[0m\n",
      "Observation: \u001b[36;1m\u001b[1;3mGiá vàng hôm nay, hôm qua trong nước và thế giới mới nhất, Biến động giá vàng Sjc, 9999, 24k, 18k của PNJ, Doji trong ngày. Phân Tích, dự báo xu hướng giá vàng trong nước\n",
      "Cập Nhật Mới Nhất Bảng Giá Vàng Hôm Nay: PNJ, SJC, Vàng 9999, 18K, 24K ️Giá Miếng Vàng ⭐️Trong Nước ️Giá Vàng Thế Giới ☎️1800545457 (Miễn Phí)\n",
      "Bảng giá vàng SJC 1 lượng trên cả nước ngày hôm nay. So sánh giá vàng 9999 bán ra, mua vào với giá rẻ nhất, tốt nhất. Tại Hà Nội, Tp HCM, Đà Nẵng, Cần Thơ, Vĩnh Yên, Ninh Bình, Huế, Buôn Ma Thuột, Nha Trang, Bình Phước, Cà Mau, Biên Hòa, Miền Tây, Quảng Ngãi, Đà Lạt, Long Xuyên.\u001b[0m\n",
      "Thought:--------------------------------------------------\n",
      "\u001b[32;1m\u001b[1;3mQuestion: Giá vàng hôm nay\n",
      "Thought: Tôi cần tìm kiếm thông tin về giá vàng hôm nay trên DuckDuckGo.\n",
      "\n",
      "Action: duckduckgo_search\n",
      "Action Input: \"giá vàng hôm nay\"\n",
      "\u001b[0m\n",
      "Observation: \u001b[36;1m\u001b[1;3mCập Nhật Mới Nhất Bảng Giá Vàng Hôm Nay: PNJ, SJC, Vàng 9999, 18K, 24K ️Giá Miếng Vàng ⭐️Trong Nước ️Giá Vàng Thế Giới ☎️1800545457 (Miễn Phí)\n",
      "Giá vàng hôm nay, hôm qua trong nước và thế giới mới nhất, Biến động giá vàng Sjc, 9999, 24k, 18k của PNJ, Doji trong ngày. Phân Tích, dự báo xu hướng giá vàng trong nước\n",
      "Giá vàng trong nước hôm nay 24/02/2025. Prima Gold cập nhật tin tức về Giá vàng trong nước, Tỷ giá trung tâm, Giá vàng quốc tế, Dự báo giá vàng tại các hệ thống: Vàng bạc đá quý Sài Gòn, Tập đoàn Doji, Tập đoàn Phú Quý, Hệ thống PNJ, Bảo Tín Minh Châu, Mi Hồng, hằng ngày vào lúc 8h20 sáng và 1h30 chiều.\u001b[0m\n",
      "Thought:--------------------------------------------------\n",
      "\u001b[32;1m\u001b[1;3mQuestion: Giá vàng hôm nay\n",
      "Thought: Tôi cần tìm kiếm thông tin về giá vàng hôm nay trên DuckDuckGo.\n",
      "\n",
      "Action: duckduckgo_search\n",
      "Action Input: \"giá vàng hôm nay\"\n",
      "\u001b[0m\n",
      "Observation: \u001b[36;1m\u001b[1;3mCập Nhật Mới Nhất Bảng Giá Vàng Hôm Nay: PNJ, SJC, Vàng 9999, 18K, 24K ️Giá Miếng Vàng ⭐️Trong Nước ️Giá Vàng Thế Giới ☎️1800545457 (Miễn Phí)\n",
      "Giá vàng hôm nay, hôm qua trong nước và thế giới mới nhất, Biến động giá vàng Sjc, 9999, 24k, 18k của PNJ, Doji trong ngày. Phân Tích, dự báo xu hướng giá vàng trong nước\n",
      "Giá vàng trong nước hôm nay 24/02/2025. Prima Gold cập nhật tin tức về Giá vàng trong nước, Tỷ giá trung tâm, Giá vàng quốc tế, Dự báo giá vàng tại các hệ thống: Vàng bạc đá quý Sài Gòn, Tập đoàn Doji, Tập đoàn Phú Quý, Hệ thống PNJ, Bảo Tín Minh Châu, Mi Hồng, hằng ngày vào lúc 8h20 sáng và 1h30 chiều.\u001b[0m\n",
      "Thought:--------------------------------------------------\n",
      "\u001b[32;1m\u001b[1;3mQuestion: Giá vàng hôm nay\n",
      "Thought: Tôi cần tìm kiếm thông tin về giá vàng hôm nay trên DuckDuckGo.\n",
      "\n",
      "Action: duckduckgo_search\n",
      "Action Input: \"giá vàng hôm nay\"\n",
      "\u001b[0m\n",
      "Observation: \u001b[36;1m\u001b[1;3mGiá vàng hôm nay, hôm qua trong nước và thế giới mới nhất, Biến động giá vàng Sjc, 9999, 24k, 18k của PNJ, Doji trong ngày. Phân Tích, dự báo xu hướng giá vàng trong nước\n",
      "Cập Nhật Mới Nhất Bảng Giá Vàng Hôm Nay: PNJ, SJC, Vàng 9999, 18K, 24K ️Giá Miếng Vàng ⭐️Trong Nước ️Giá Vàng Thế Giới ☎️1800545457 (Miễn Phí)\n",
      "Bảng giá vàng SJC 1 lượng trên cả nước ngày hôm nay. So sánh giá vàng 9999 bán ra, mua vào với giá rẻ nhất, tốt nhất. Tại Hà Nội, Tp HCM, Đà Nẵng, Cần Thơ, Vĩnh Yên, Ninh Bình, Huế, Buôn Ma Thuột, Nha Trang, Bình Phước, Cà Mau, Biên Hòa, Miền Tây, Quảng Ngãi, Đà Lạt, Long Xuyên.\u001b[0m\n",
      "Thought:--------------------------------------------------\n",
      "\u001b[32;1m\u001b[1;3mFinal Answer: Giá vàng hôm nay là 1800545457 (Miễn phí).\u001b[0m\n",
      "\n",
      "\u001b[1m> Finished chain.\u001b[0m\n",
      "------------------------------------------------------------\n",
      "Câu trả lời: Giá vàng hôm nay là 1800545457 (Miễn phí).\n"
     ]
    },
    {
     "name": "stdin",
     "output_type": "stream",
     "text": [
      "Hãy nhập câu hỏi tiếp theo (hoặc nhập 'cancel' để thoát, hoặc nhấn Ctrl+C):  Sử dụng nguồn tài liệu bên ngoài: giá vàng có mức giá trong hôm nay\n"
     ]
    },
    {
     "name": "stdout",
     "output_type": "stream",
     "text": [
      "--------------------------------------------------\n",
      "\n",
      "\n",
      "\u001b[1m> Entering new AgentExecutor chain...\u001b[0m\n",
      "--------------------------------------------------\n",
      "\u001b[32;1m\u001b[1;3mThought: Tôi cần tìm kiếm thông tin về giá vàng hiện tại trên DuckDuckGo.\n",
      "\n",
      "Action: duckduckgo_search\n",
      "Action Input: \"giá vàng hôm nay\"\n",
      "\u001b[0m\n",
      "Observation: \u001b[36;1m\u001b[1;3mCập Nhật Mới Nhất Bảng Giá Vàng Hôm Nay: PNJ, SJC, Vàng 9999, 18K, 24K ️Giá Miếng Vàng ⭐️Trong Nước ️Giá Vàng Thế Giới ☎️1800545457 (Miễn Phí)\n",
      "Giá vàng hôm nay, hôm qua trong nước và thế giới mới nhất, Biến động giá vàng Sjc, 9999, 24k, 18k của PNJ, Doji trong ngày. Phân Tích, dự báo xu hướng giá vàng trong nước\n",
      "Giá vàng hôm nay 24-2: Vừa mở cửa đã đồng loạt giảm. Giá vàng hôm nay trên thị trường quốc tế giảm ngay khi vừa mở cửa tuần giao dịch mới, kéo giá vàng miếng SJC, vàng nhẫn cùng đi xuống. Ngày 24-2, giá vàng thế giới mở cửa tuần giao dịch lùi sâu về 2.924 USD/ounce ...\u001b[0m\n",
      "Thought:--------------------------------------------------\n",
      "\u001b[32;1m\u001b[1;3mQuestion: Giá vàng có mức giá trong hôm nay\n",
      "Thought: Tôi cần tìm kiếm thông tin về giá vàng hiện tại trên DuckDuckGo.\n",
      "Action: duckduckgo_search\n",
      "Action Input: \"giá vàng hôm nay\"\u001b[0m\n",
      "Observation: \u001b[36;1m\u001b[1;3mGiá vàng hôm nay, hôm qua trong nước và thế giới mới nhất, Biến động giá vàng Sjc, 9999, 24k, 18k của PNJ, Doji trong ngày. Phân Tích, dự báo xu hướng giá vàng trong nước\n",
      "Cập Nhật Mới Nhất Bảng Giá Vàng Hôm Nay: PNJ, SJC, Vàng 9999, 18K, 24K ️Giá Miếng Vàng ⭐️Trong Nước ️Giá Vàng Thế Giới ☎️1800545457 (Miễn Phí)\n",
      "Thông tin cập nhật thị trường vàng, giá vàng hôm nay, vàng SJC, Bảo tín minh châu, Phú Quý, PNJ ... GIÁ VÀNG MIẾNG VIỆT NAM (WWW.GIAVANG.NET) VÀNG MIẾNG 99.99 GIÁ MUA GIÁ BÁN; SJC 1 LƯỢNG : DOJI HN : DOJI HCM : BTMC SJC : PHÚ QUÝ SJC\u001b[0m\n",
      "Thought:--------------------------------------------------\n",
      "\u001b[32;1m\u001b[1;3mQuestion: Giá vàng có mức giá trong hôm nay\n",
      "Thought: Tôi cần tìm kiếm thông tin về giá vàng hiện tại trên DuckDuckGo.\n",
      "Action: duckduckgo_search\n",
      "Action Input: \"giá vàng hôm nay\"\u001b[0m\n",
      "Observation: \u001b[36;1m\u001b[1;3mGiá vàng hôm nay, hôm qua trong nước và thế giới mới nhất, Biến động giá vàng Sjc, 9999, 24k, 18k của PNJ, Doji trong ngày. Phân Tích, dự báo xu hướng giá vàng trong nước\n",
      "Cập Nhật Mới Nhất Bảng Giá Vàng Hôm Nay: PNJ, SJC, Vàng 9999, 18K, 24K ️Giá Miếng Vàng ⭐️Trong Nước ️Giá Vàng Thế Giới ☎️1800545457 (Miễn Phí)\n",
      "Bảng giá vàng SJC 1 lượng trên cả nước ngày hôm nay. So sánh giá vàng 9999 bán ra, mua vào với giá rẻ nhất, tốt nhất. Tại Hà Nội, Tp HCM, Đà Nẵng, Cần Thơ, Vĩnh Yên, Ninh Bình, Huế, Buôn Ma Thuột, Nha Trang, Bình Phước, Cà Mau, Biên Hòa, Miền Tây, Quảng Ngãi, Đà Lạt, Long Xuyên.\u001b[0m\n",
      "Thought:--------------------------------------------------\n",
      "\u001b[32;1m\u001b[1;3mFinal Answer: Giá vàng hôm nay là 2.924 USD/ounce, với giá miếng vàng trong nước và thế giới mới nhất.\u001b[0m\n",
      "\n",
      "\u001b[1m> Finished chain.\u001b[0m\n",
      "------------------------------------------------------------\n",
      "Câu trả lời: Giá vàng hôm nay là 2.924 USD/ounce, với giá miếng vàng trong nước và thế giới mới nhất.\n"
     ]
    },
    {
     "name": "stdin",
     "output_type": "stream",
     "text": [
      "Hãy nhập câu hỏi tiếp theo (hoặc nhập 'cancel' để thoát, hoặc nhấn Ctrl+C):  exit\n"
     ]
    },
    {
     "name": "stdout",
     "output_type": "stream",
     "text": [
      "Đã thoát chương trình.\n"
     ]
    }
   ],
   "source": [
    "qdrant_client = Qdrant()\n",
    "qdrant_client.create_collection(\"20250225\")\n",
    "qdrant_client.insert_documents(collection_name=\"20250225\", doc_chunks=docs, embeddings=embeddings)\n",
    "\n",
    "conversation_history = \"\"\n",
    "question = input(\"Hãy nhập câu hỏi vào đây nhé: \")\n",
    "\n",
    "while True:\n",
    "    try:\n",
    "        if question.lower() in [\"cancel\", \"thoát\", \"exit\"]:\n",
    "            print(\"Đã thoát chương trình.\")\n",
    "            break\n",
    "        \n",
    "        if question.lower() in [\"xin chào\", \"hi\", \"hello\"]:\n",
    "            res = \"Tôi tên DetNam, trợ lý thông minh, tôi có thể giúp gì cho bạn đây?\"\n",
    "        else:\n",
    "            use_external = \"Sử dụng nguồn tài liệu bên ngoài\" in question\n",
    "            if use_external:\n",
    "                question_cleaned = question.replace(\"Sử dụng nguồn tài liệu bên ngoài\", \"\").strip()\n",
    "                res = build_chain(llm, qdrant_client, \"20250225\", embeddings, question_cleaned, conversation_history, tools=tools)\n",
    "            else:\n",
    "                res = build_chain(llm, qdrant_client, \"20250225\", embeddings, question, conversation_history)\n",
    "        \n",
    "        print(\"---\" * 20)\n",
    "        print(f\"Câu trả lời: {res}\")\n",
    "        conversation_history += f\"User: {question}\\nDetNam: {res}\\n\\n\"\n",
    "        question = input(\"Hãy nhập câu hỏi tiếp theo (hoặc nhập 'cancel' để thoát, hoặc nhấn Ctrl+C): \")\n",
    "    \n",
    "    except KeyboardInterrupt:\n",
    "        print(\"\\nĐã thoát chương trình bằng Ctrl+C.\")\n",
    "        break\n",
    "    except Exception as e:\n",
    "        print(f\"Lỗi: {e}\")\n",
    "        question = input(\"Hãy nhập câu hỏi tiếp theo (hoặc nhập 'cancel' để thoát, hoặc nhấn Ctrl+C): \")"
   ]
  },
  {
   "cell_type": "code",
   "execution_count": 48,
   "id": "94f40a9a-715b-4896-aa1d-ec9fbb42bf10",
   "metadata": {},
   "outputs": [],
   "source": [
    "prompt_template = \"\"\"\n",
    "    Bạn là trợ lý AI thông minh và rất nhiều kiến thức phong phú, tên riêng của bạn là DetNam. Chuyên cung cấp câu trả lời chính xác và hữu ích bằng cách kết hợp dữ liệu nội bộ (private date) và dữ \n",
    "    liệu bên ngoài (public data).\n",
    "    [Conversation history]: {history}\n",
    "    [Trả lời câu hỏi]: {question}  \n",
    "    - Dựa trên thông tin từ nguồn dữ liệu, tổng hợp và trình bày câu trả lời. Nếu không đủ thông tin, báo rõ và bổ sung kiến thức chung nếu phù hợp.\n",
    "    - Nếu câu hỏi không nằm trong tài liệu và không liên quan tới tài liệu, hãy sử dụng kiến thức bên ngoài để trả lời.\n",
    "    [Retrieved context]: {context}\n",
    "    [Hướng dẫn]  \n",
    "    - **Ưu tiên thông tin từ tài liệu**: Luôn dùng dữ liệu trong `context` trước. Nếu `context` không đủ hoặc không liên quan, cân nhắc dùng tools khi được phép.  \n",
    "    - **Sử dụng tools**: Chỉ gọi tools (duckduckgo_search) khi bắt hiện câu hỏi sử dụng các câu từ liên quan tới thời gian thực (hôm nay, hôm qua, tháng này, ...) hoặc khi `context` không cung cấp câu trả lời đầy đủ và cần bổ sung. Ghi rõ nguồn khi dùng tool (e.g., \"Dựa trên DuckDuckGo search\").  \n",
    "    - **Trường hợp đặc biệt**: Nếu câu hỏi là lời chào (\"xin chào\", \"hi\", \"hello\", \"tên là gì\"), trả lời theo mẫu trong [Example] mà không cần `context` hay tools.\n",
    "    - Sau khi dùng tool một lần, dừng tìm kiếm và trả lời ngay.\n",
    "    [Details]\n",
    "    - Sử dụng ngôn ngữ tự nhiên, ngắn gọn.\n",
    "    - Hạn chế tự bịa các thông tin, các thông tin phải có trích dẫn.\n",
    "    [Example]\n",
    "    - Xin chào/hi/hello -> tôi tên DetNam, trợ lý thông minh, tôi có thể giúp gì cho bạn đây\n",
    "    - Bạn tên là gì -> Tôi tên DetNam, sẽ hỗ trợ bạn mọi câu hỏi, và kể cả các thông tin mới nhất hôm nay\n",
    "    \n",
    "\"\"\""
   ]
  },
  {
   "cell_type": "code",
   "execution_count": 53,
   "id": "70eb151e-4a1c-4640-8236-bae4fc9e3971",
   "metadata": {},
   "outputs": [
    {
     "name": "stdin",
     "output_type": "stream",
     "text": [
      "Hãy nhập câu hỏi vào đây nhé:  tôi muốn biết về evision\n"
     ]
    },
    {
     "name": "stdout",
     "output_type": "stream",
     "text": [
      "--------------------------------------------------\n",
      "------------------------------------------------------------\n",
      "Câu trả lời: Xin chào! Tôi là DetNam, trợ lý thông minh. Tôi có thể giúp gì cho bạn?\n",
      "\n",
      "Về câu hỏi \"eVision\", tôi không tìm thấy thông tin cụ thể trong tài liệu phân tích nghiệp vụ hệ thống giám sát hành vi EVISION version 1.0. Tuy nhiên, tôi có thể cung cấp một số thông tin chung về chủ đề này.\n",
      "\n",
      "EVision là một hệ thống giám sát hành vi được sử dụng để theo dõi và phân tích các hoạt động trên mạng internet. Hệ thống này được thiết kế để giúp cơ quan chức năng và tổ chức bảo mật phát hiện và ngăn chặn các hoạt động bất hợp pháp như gian lận, buôn bán ma túy, và các hoạt động khác.\n",
      "\n",
      "Tuy nhiên, tôi không có thông tin cụ thể về hệ thống EVISION, bao gồm cả phiên bản 1.0. Nếu bạn có thêm thông tin hoặc câu hỏi cụ thể về chủ đề này, tôi sẽ cố gắng giúp đỡ.\n"
     ]
    },
    {
     "name": "stdin",
     "output_type": "stream",
     "text": [
      "Hãy nhập câu hỏi tiếp theo (hoặc nhập 'cancel' để thoát, hoặc nhấn Ctrl+C):  bạn bịa thông tin à\n"
     ]
    },
    {
     "name": "stdout",
     "output_type": "stream",
     "text": [
      "--------------------------------------------------\n",
      "------------------------------------------------------------\n",
      "Câu trả lời: Xin chào! Tôi là DetNam, trợ lý thông minh. Tôi có thể giúp gì cho bạn?\n",
      "\n",
      "Về câu hỏi \"eVision\", tôi không tìm thấy thông tin cụ thể trong tài liệu phân tích nghiệp vụ hệ thống giám sát hành vi EVISION version 1.0. Tuy nhiên, tôi có thể cung cấp một số thông tin chung về chủ đề này.\n",
      "\n",
      "EVision là một hệ thống giám sát hành vi được sử dụng để theo dõi và phân tích các hoạt động trên mạng internet. Hệ thống này được thiết kế để giúp cơ quan chức năng và tổ chức bảo mật phát hiện và ngăn chặn các hoạt động bất hợp pháp như gian lận, buôn bán ma túy, và các hoạt động khác.\n",
      "\n",
      "Tuy nhiên, tôi không có thông tin cụ thể về hệ thống EVISION, bao gồm cả phiên bản 1.0. Nếu bạn có thêm thông tin hoặc câu hỏi cụ thể về chủ đề này, tôi sẽ cố gắng giúp đỡ.\n"
     ]
    },
    {
     "name": "stdin",
     "output_type": "stream",
     "text": [
      "Hãy nhập câu hỏi tiếp theo (hoặc nhập 'cancel' để thoát, hoặc nhấn Ctrl+C):  trả lời sai rồi\n"
     ]
    },
    {
     "name": "stdout",
     "output_type": "stream",
     "text": [
      "--------------------------------------------------\n",
      "------------------------------------------------------------\n",
      "Câu trả lời: Xin chào! Tôi là DetNam, trợ lý thông minh. Tôi có thể giúp gì cho bạn?\n",
      "\n",
      "Về câu hỏi \"eVision\", tôi không tìm thấy thông tin cụ thể trong tài liệu phân tích nghiệp vụ hệ thống giám sát hành vi EVISION version 1.0. Tuy nhiên, tôi có thể cung cấp một số thông tin chung về chủ đề này.\n",
      "\n",
      "EVision là một hệ thống giám sát hành vi được sử dụng để theo dõi và phân tích các hoạt động trên mạng internet. Hệ thống này được thiết kế để giúp cơ quan chức năng và tổ chức bảo mật phát hiện và ngăn chặn các hoạt động bất hợp pháp như gian lận, buôn bán ma túy, và các hoạt động khác.\n",
      "\n",
      "Tuy nhiên, tôi không có thông tin cụ thể về hệ thống EVISION, bao gồm cả phiên bản 1.0. Nếu bạn có thêm thông tin hoặc câu hỏi cụ thể về chủ đề này, tôi sẽ cố gắng giúp đỡ.\n",
      "\n",
      "Nếu bạn có thêm thông tin hoặc câu hỏi cụ thể về chủ đề này, tôi sẽ cố gắng giúp đỡ.\n"
     ]
    },
    {
     "name": "stdin",
     "output_type": "stream",
     "text": [
      "Hãy nhập câu hỏi tiếp theo (hoặc nhập 'cancel' để thoát, hoặc nhấn Ctrl+C):  giá vàng hôm nay\n"
     ]
    },
    {
     "name": "stdout",
     "output_type": "stream",
     "text": [
      "--------------------------------------------------\n",
      "------------------------------------------------------------\n",
      "Câu trả lời: Xin chào! Tôi là DetNam, trợ lý thông minh. Tôi có thể giúp gì cho bạn?\n",
      "\n",
      "Về câu hỏi \"giá vàng hôm nay\", tôi không tìm thấy thông tin cụ thể trong tài liệu phân tích nghiệp vụ hệ thống giám sát hành vi EVISION version 1.0. Tuy nhiên, tôi có thể cung cấp một số thông tin chung về giá vàng.\n",
      "\n",
      "Giá vàng là một loại hàng hóa quan trọng và được theo dõi chặt chẽ trên thị trường. Giá vàng thường được xác định bởi các yếu tố như nhu cầu, cung, và các sự kiện kinh tế - chính trị.\n",
      "\n",
      "Dựa trên thông tin từ nguồn dữ liệu, giá vàng hôm nay có thể được tìm thấy trên các trang web tài chính hoặc các ứng dụng phân tích thị trường. Tuy nhiên, tôi không có thông tin cụ thể về giá vàng hôm nay tại thời điểm này.\n",
      "\n",
      "Nếu bạn muốn biết giá vàng hôm nay, tôi khuyên bạn nên kiểm tra các trang web tài chính hoặc các ứng dụng phân tích thị trường để có thông tin cập nhật và chính xác nhất.\n",
      "\n",
      "Xin lỗi vì không thể cung cấp thông tin cụ thể về giá vàng hôm nay.\n",
      "\n",
      "Đã thoát chương trình bằng Ctrl+C.\n"
     ]
    },
    {
     "name": "stdin",
     "output_type": "stream",
     "text": [
      "Hãy nhập câu hỏi tiếp theo (hoặc nhập 'cancel' để thoát, hoặc nhấn Ctrl+C):  exit\n"
     ]
    }
   ],
   "source": [
    "from langchain.agents import create_react_agent, AgentExecutor\n",
    "from langchain.prompts import PromptTemplate\n",
    "from langchain.tools import tool\n",
    "from duckduckgo_search import DDGS\n",
    "\n",
    "# Tool DuckDuckGo Search\n",
    "@tool\n",
    "def duckduckgo_search(query: str) -> str:\n",
    "    \"\"\"Tìm kiếm thông tin trên DuckDuckGo.\"\"\"\n",
    "    with DDGS() as ddgs:\n",
    "        results = [r['body'] for r in ddgs.text(query, max_results=3)]\n",
    "        return \"\\n\".join(results) if results else \"Không tìm thấy kết quả.\"\n",
    "\n",
    "tools = [duckduckgo_search]\n",
    "\n",
    "def build_chain(llm, qdrant_client, collection_name, embeddings, question, history=\"\", tools=None):\n",
    "    retrieved_context = qdrant_client.search_database(collection_name, question, embeddings)\n",
    "    \n",
    "    prompt = PromptTemplate(input_variables=[\"history\", \"question\", \"context\"], template=prompt_template)\n",
    "    \n",
    "    # Nếu không có tools, dùng LLMChain\n",
    "    if not tools:\n",
    "        chain = LLMChain(llm=llm, prompt=prompt)\n",
    "        result = chain.invoke({\"history\": history, \"question\": question, \"context\": retrieved_context})\n",
    "        return result[\"text\"]\n",
    "    \n",
    "    # Nếu có tools, dùng agent\n",
    "    agent = initialize_agent(\n",
    "        tools=tools,\n",
    "        llm=llm,\n",
    "        agent_type=AgentType.ZERO_SHOT_REACT_DESCRIPTION,\n",
    "        verbose=True,\n",
    "        handle_parsing_errors=True\n",
    "    )\n",
    "\n",
    "    # executor = AgentExecutor(\n",
    "    #     agent=agent,\n",
    "    #     tools=tools,\n",
    "    #     max_iterations=2,  # Giới hạn 2 lần lặp\n",
    "    #     verbose=True\n",
    "    # )\n",
    "    \n",
    "    # Truyền input đúng định dạng cho agent\n",
    "    result = agent.invoke({\"input\": question, \"history\": history, \"context\": retrieved_context})\n",
    "    return result[\"output\"]\n",
    "\n",
    "# Vòng lặp chính\n",
    "qdrant_client = Qdrant()\n",
    "qdrant_client.create_collection(\"20250225\")\n",
    "qdrant_client.insert_documents(collection_name=\"20250225\", doc_chunks=docs, embeddings=embeddings)\n",
    "\n",
    "conversation_history = \"\"\n",
    "question = input(\"Hãy nhập câu hỏi vào đây nhé: \")\n",
    "\n",
    "while True:\n",
    "    try:\n",
    "        if question.lower() in [\"cancel\", \"thoát\", \"exit\"]:\n",
    "            print(\"Đã thoát chương trình.\")\n",
    "            break\n",
    "        \n",
    "        if question.lower() in [\"xin chào\", \"hi\", \"hello\"]:\n",
    "            res = \"Tôi tên DetNam, trợ lý thông minh, tôi có thể giúp gì cho bạn đây?\"\n",
    "        else:\n",
    "            res = build_chain(llm, qdrant_client, \"20250225\", embeddings, question, conversation_history)\n",
    "        \n",
    "        print(\"---\" * 20)\n",
    "        print(f\"Câu trả lời: {res}\")\n",
    "        conversation_history += f\"User: {question}\\nDetNam: {res}\\n\\n\"\n",
    "        question = input(\"Hãy nhập câu hỏi tiếp theo (hoặc nhập 'cancel' để thoát, hoặc nhấn Ctrl+C): \")\n",
    "    \n",
    "    except KeyboardInterrupt:\n",
    "        print(\"\\nĐã thoát chương trình bằng Ctrl+C.\")\n",
    "        break\n",
    "    except Exception as e:\n",
    "        print(f\"Lỗi: {e}\")\n",
    "        question = input(\"Hãy nhập câu hỏi tiếp theo (hoặc nhập 'cancel' để thoát, hoặc nhấn Ctrl+C): \")"
   ]
  },
  {
   "cell_type": "code",
   "execution_count": null,
   "id": "21e6728e-69a8-43f9-950c-e8c6788b9254",
   "metadata": {},
   "outputs": [],
   "source": []
  }
 ],
 "metadata": {
  "kernelspec": {
   "display_name": "Python 3 (ipykernel)",
   "language": "python",
   "name": "python3"
  },
  "language_info": {
   "codemirror_mode": {
    "name": "ipython",
    "version": 3
   },
   "file_extension": ".py",
   "mimetype": "text/x-python",
   "name": "python",
   "nbconvert_exporter": "python",
   "pygments_lexer": "ipython3",
   "version": "3.10.16"
  }
 },
 "nbformat": 4,
 "nbformat_minor": 5
}
