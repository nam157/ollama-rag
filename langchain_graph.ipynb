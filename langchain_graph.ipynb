{
 "cells": [
  {
   "cell_type": "markdown",
   "metadata": {},
   "source": [
    "# Simple chatbot using langchain graph"
   ]
  },
  {
   "cell_type": "code",
   "execution_count": 2,
   "metadata": {},
   "outputs": [],
   "source": [
    "from typing import Annotated, TypedDict \n",
    "from langgraph.graph import  StateGraph, START, END\n",
    "\n",
    "from langgraph.graph.message import add_messages \n",
    "\n",
    "from langchain_ollama import ChatOllama\n",
    "\n",
    "llm = ChatOllama(model=\"llama3.2:3b\", base_url = \"http://localhost:11434\")"
   ]
  },
  {
   "cell_type": "code",
   "execution_count": 3,
   "metadata": {},
   "outputs": [
    {
     "data": {
      "text/plain": [
       "AIMessage(content='Hello! How can I assist you today?', additional_kwargs={}, response_metadata={'model': 'llama3.2:3b', 'created_at': '2025-02-01T16:37:28.967266167Z', 'done': True, 'done_reason': 'stop', 'total_duration': 410624760, 'load_duration': 33081600, 'prompt_eval_count': 26, 'prompt_eval_duration': 257000000, 'eval_count': 10, 'eval_duration': 118000000, 'message': Message(role='assistant', content='', images=None, tool_calls=None)}, id='run-617e29a9-647e-48cd-b796-5ceae89046dd-0', usage_metadata={'input_tokens': 26, 'output_tokens': 10, 'total_tokens': 36})"
      ]
     },
     "execution_count": 3,
     "metadata": {},
     "output_type": "execute_result"
    }
   ],
   "source": [
    "llm.invoke(\"Hi\")"
   ]
  },
  {
   "cell_type": "code",
   "execution_count": 4,
   "metadata": {},
   "outputs": [],
   "source": [
    "class State(TypedDict):\n",
    "    messages: Annotated[list, add_messages]\n",
    "\n",
    "\n",
    "def chatbot(state: State):\n",
    "    response = llm.invoke(state[\"messages\"])\n",
    "    return {\"messages\": [response]}\n",
    "\n",
    "\n",
    "graph_builder = StateGraph(State)\n",
    "graph_builder.add_node(\"chatbot\", chatbot)\n",
    "\n",
    "graph_builder.add_edge(START, \"chatbot\")\n",
    "\n",
    "graph_builder.add_edge(\"chatbot\", END)\n",
    "\n",
    "graph = graph_builder.compile()"
   ]
  },
  {
   "cell_type": "code",
   "execution_count": 5,
   "metadata": {},
   "outputs": [
    {
     "data": {
      "image/png": "[encoded data removed]",
      "text/plain": [
       "<IPython.core.display.Image object>"
      ]
     },
     "metadata": {},
     "output_type": "display_data"
    }
   ],
   "source": [
    "from IPython.display import display, Image\n",
    "\n",
    "display(Image(graph.get_graph().draw_mermaid_png()))"
   ]
  },
  {
   "cell_type": "code",
   "execution_count": 6,
   "metadata": {},
   "outputs": [
    {
     "data": {
      "text/plain": [
       "{'messages': [HumanMessage(content='Hi', additional_kwargs={}, response_metadata={}, id='aea06c53-e3f6-41a9-9859-8ed4f9227c4d'),\n",
       "  HumanMessage(content='myself is laxmi kant', additional_kwargs={}, response_metadata={}, id='73a0c966-28d1-43e5-a485-76b822349405'),\n",
       "  AIMessage(content=\"Namaste Laxmi Kant! It's a pleasure to meet you. I don't have any information about your personal life or background, so feel free to share with me if you'd like. Are you interested in discussing something specific or just chatting?\", additional_kwargs={}, response_metadata={'model': 'llama3.2:3b', 'created_at': '2025-02-01T16:44:46.985359468Z', 'done': True, 'done_reason': 'stop', 'total_duration': 5592434097, 'load_duration': 3663955729, 'prompt_eval_count': 34, 'prompt_eval_duration': 281000000, 'eval_count': 52, 'eval_duration': 521000000, 'message': Message(role='assistant', content='', images=None, tool_calls=None)}, id='run-672321a4-aa5e-42b4-9c88-2c75eac88854-0', usage_metadata={'input_tokens': 34, 'output_tokens': 52, 'total_tokens': 86})]}"
      ]
     },
     "execution_count": 6,
     "metadata": {},
     "output_type": "execute_result"
    }
   ],
   "source": [
    "graph.invoke({\"messages\": [\"Hi\", \"myself is laxmi kant\"]})\n"
   ]
  },
  {
   "cell_type": "code",
   "execution_count": 7,
   "metadata": {},
   "outputs": [
    {
     "data": {
      "text/plain": [
       "{'messages': [HumanMessage(content='Hello', additional_kwargs={}, response_metadata={}, id='2605cd62-ed02-44cd-9486-44d93376f8b9'),\n",
       "  AIMessage(content='How can I assist you today?', additional_kwargs={}, response_metadata={'model': 'llama3.2:3b', 'created_at': '2025-02-01T16:47:10.958525871Z', 'done': True, 'done_reason': 'stop', 'total_duration': 136040477, 'load_duration': 29976816, 'prompt_eval_count': 26, 'prompt_eval_duration': 28000000, 'eval_count': 8, 'eval_duration': 76000000, 'message': Message(role='assistant', content='', images=None, tool_calls=None)}, id='run-9c818c5d-0bd0-4793-89dd-64980486d28f-0', usage_metadata={'input_tokens': 26, 'output_tokens': 8, 'total_tokens': 34})]}"
      ]
     },
     "execution_count": 7,
     "metadata": {},
     "output_type": "execute_result"
    }
   ],
   "source": [
    "graph.invoke({\"messages\": [\"Hello\"]})\n"
   ]
  },
  {
   "cell_type": "code",
   "execution_count": null,
   "metadata": {},
   "outputs": [
    {
     "name": "stdout",
     "output_type": "stream",
     "text": [
      "Assistant: How can I assist you today?\n",
      "Assistant: I can assist with a wide range of math problems. What type of math are you working on? Do you have a specific problem or topic in mind that you'd like help with?\n",
      "\n",
      "Here are some areas I can provide assistance with:\n",
      "\n",
      "1. **Algebra**: Equations, inequalities, systems of equations, quadratic equations, etc.\n",
      "2. **Geometry**: Points, lines, angles, triangles, quadrilaterals, polygons, circles, 3D geometry, etc.\n",
      "3. **Trigonometry**: Angles, triangles, waves, circular functions (sine, cosine, tangent), etc.\n",
      "4. **Calculus**: Limits, derivatives, integrals, multivariable calculus, differential equations, etc.\n",
      "5. **Statistics and Probability**: Descriptive statistics, inferential statistics, probability distributions, Bayes' theorem, etc.\n",
      "6. **Number Theory**: Properties of numbers (even/odd, prime, composite), divisibility, modular arithmetic, Diophantine equations, etc.\n",
      "\n",
      "Let me know what you're working on, and I'll do my best to help!\n",
      "Assistant: 1 + 1 = 2.\n",
      "Assistant: It looks like you didn't ask a question. What's on your mind? Do you need help with something or just want to chat? I'm here to assist you!\n",
      "Assistant: It seems like you didn't ask a question. How can I assist you today?\n"
     ]
    }
   ],
   "source": [
    "while True:\n",
    "    user_input = input(\"You: \")\n",
    "    if user_input in ['q', 'quit', 'exit']:\n",
    "        print(\"Bye!\")\n",
    "        break\n",
    "\n",
    "    response = graph.invoke({\"messages\": [user_input]})\n",
    "    print(\"Assistant:\", response[\"messages\"][-1].content)"
   ]
  },
  {
   "cell_type": "code",
   "execution_count": null,
   "metadata": {},
   "outputs": [],
   "source": []
  },
  {
   "cell_type": "code",
   "execution_count": 19,
   "metadata": {},
   "outputs": [
    {
     "name": "stdout",
     "output_type": "stream",
     "text": [
      "[('User', 'Xin chào!'), ('AI', \"Xin chào! (Hello!) Welcome to our conversation. I'm here to help you with any questions or topics you'd like to discuss. How are you today?\")]\n"
     ]
    },
    {
     "data": {
      "image/png": "[encoded data removed]",
      "text/plain": [
       "<IPython.core.display.Image object>"
      ]
     },
     "metadata": {},
     "output_type": "display_data"
    }
   ],
   "source": [
    "import os\n",
    "from langchain_ollama import ChatOllama\n",
    "\n",
    "\n",
    "from langchain.memory import ConversationBufferMemory\n",
    "from langgraph.graph import StateGraph, END\n",
    "from typing import TypedDict\n",
    "\n",
    "# Thiết lập API key cho OpenAI\n",
    "os.environ[\"OPENAI_API_KEY\"] = \"your-openai-api-key\"\n",
    "\n",
    "# 1. Định nghĩa state (trạng thái) của chatbot\n",
    "class ChatbotState(TypedDict):\n",
    "    chat_history: list  # Bộ nhớ lưu trữ lịch sử hội thoại\n",
    "    user_input: str     # Tin nhắn của người dùng\n",
    "\n",
    "# 2. Node xử lý tin nhắn của người dùng\n",
    "def process_user_input(state: ChatbotState):\n",
    "    \"\"\"Nhận tin nhắn người dùng và gửi tới mô hình AI.\"\"\"\n",
    "    user_input = state[\"user_input\"]\n",
    "    chat_history = state[\"chat_history\"]\n",
    "    \n",
    "    llm = ChatOllama(model=\"llama3.2:3b\", base_url = \"http://localhost:11434\")\n",
    "\n",
    "    response = llm.invoke(user_input)\n",
    "    \n",
    "    # Cập nhật lịch sử hội thoại\n",
    "    chat_history.append((\"User\", user_input))\n",
    "    chat_history.append((\"AI\", response.content))\n",
    "    \n",
    "    return {\"chat_history\": chat_history}\n",
    "\n",
    "# 3. Xây dựng đồ thị LangGraph\n",
    "workflow = StateGraph(ChatbotState)\n",
    "workflow.add_node(\"process_input\", process_user_input)  # Thêm node xử lý\n",
    "workflow.set_entry_point(\"process_input\")  # Điểm bắt đầu\n",
    "workflow.add_edge(\"process_input\", END)  # Kết thúc workflow\n",
    "\n",
    "graph = workflow.compile()\n",
    "\n",
    "# 4. Chạy thử chatbot\n",
    "chat_state = {\"chat_history\": [], \"user_input\": \"Xin chào!\"}\n",
    "output = graph.invoke(chat_state)\n",
    "\n",
    "# In kết quả\n",
    "print(output[\"chat_history\"])\n",
    "\n",
    "from IPython.display import display, Image\n",
    "\n",
    "display(Image(graph.get_graph().draw_mermaid_png()))"
   ]
  },
  {
   "cell_type": "markdown",
   "metadata": {},
   "source": [
    "# Enhancing the chatbot with tools"
   ]
  },
  {
   "cell_type": "code",
   "execution_count": 11,
   "metadata": {},
   "outputs": [
    {
     "name": "stdout",
     "output_type": "stream",
     "text": [
      "[{'url': 'https://langchain-ai.github.io/langgraph/concepts/low_level/', 'content': \"LangGraph's underlying graph algorithm uses message passing to define a general program. When a Node completes its operation, it sends messages along one or more edges to other node (s). These recipient nodes then execute their functions, pass the resulting messages to the next set of nodes, and the process continues.\"}, {'url': 'https://medium.com/@vivekvjnk/langgraph-basics-understanding-state-schema-nodes-and-edges-77f2fd17cae5', 'content': 'LangGraph Basics: Understanding State, Schema, Nodes, and Edges | by Story_Teller | Dec, 2024 | Medium LangGraph Basics: Understanding State, Schema, Nodes, and Edges LangGraph Basics: Understanding State, Schema, Nodes, and Edges These predefined structures in the messaging app are synonymous with the schema of the state in LangGraph. Just as a messaging app ensures all interactions (messages) follow a consistent format, the schema in LangGraph ensures the state passed along edges is structured and interpretable. This static schema allows nodes to rely on a consistent state format, ensuring seamless communication along edges throughout the graph. In this article, we explored the foundational concepts of graph-based systems, drawing parallels to familiar messaging applications to illustrate how edges, nodes, and state transitions function seamlessly in dynamic workflows.'}]\n"
     ]
    }
   ],
   "source": [
    "import os\n",
    "from langchain_community.tools.tavily_search import TavilySearchResults\n",
    "\n",
    "# Đặt API key vào biến môi trường\n",
    "os.environ[\"TAVILY_API_KEY\"] = \"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\"\n",
    "\n",
    "# Khởi tạo công cụ tìm kiếm\n",
    "tool = TavilySearchResults(max_results=2)\n",
    "\n",
    "# Gọi tìm kiếm\n",
    "result = tool.invoke(\"What's a 'node' in LangGraph?\")\n",
    "\n",
    "# In kết quả\n",
    "print(result)\n"
   ]
  },
  {
   "cell_type": "code",
   "execution_count": 2,
   "metadata": {},
   "outputs": [],
   "source": [
    "from langchain_community.tools.tavily_search import TavilySearchResults\n",
    "from langgraph.prebuilt import ToolNode, tools_condition\n",
    "\n",
    "from langchain_core.messages import HumanMessage\n",
    "from langchain_core.tools import tool\n",
    "from typing import Annotated, TypedDict \n",
    "from langgraph.graph import  StateGraph, START, END\n",
    "\n",
    "from langgraph.graph.message import add_messages \n",
    "\n",
    "from langchain_ollama import ChatOllama\n",
    "\n",
    "llm = ChatOllama(model=\"llama3.2:3b\", base_url = \"http://localhost:11434\")\n",
    "@tool\n",
    "def internet_search(query: str):\n",
    "    \"\"\"\n",
    "    Search the web for realtime and latest information.\n",
    "    for examples, news, stock market, weather updates etc.\n",
    "    \n",
    "    Args:\n",
    "    query: The search query\n",
    "    \"\"\"\n",
    "    search = TavilySearchResults(\n",
    "        max_results=3,\n",
    "        search_depth='advanced',\n",
    "        include_answer=True,\n",
    "        include_raw_content=True,\n",
    "    )\n",
    "\n",
    "    response = search.invoke(query)\n",
    "\n",
    "    return response\n",
    "\n",
    "@tool\n",
    "def llm_search(query: str):\n",
    "    \"\"\"\n",
    "    Use the LLM model for general and basic information.\n",
    "    \"\"\"\n",
    "    response = llm.invoke(query)\n",
    "    return response"
   ]
  },
  {
   "cell_type": "code",
   "execution_count": 12,
   "metadata": {},
   "outputs": [
    {
     "data": {
      "text/plain": [
       "[StructuredTool(name='internet_search', description='Search the web for realtime and latest information.\\nfor examples, news, stock market, weather updates etc.\\n\\nArgs:\\nquery: The search query', args_schema=<class 'langchain_core.utils.pydantic.internet_search'>, func=<function internet_search at 0x7f45cf7f15a0>),\n",
       " StructuredTool(name='llm_search', description='Use the LLM model for general and basic information.', args_schema=<class 'langchain_core.utils.pydantic.llm_search'>, func=<function llm_search at 0x7f45cf3831c0>)]"
      ]
     },
     "execution_count": 12,
     "metadata": {},
     "output_type": "execute_result"
    }
   ],
   "source": [
    "tools = [internet_search, llm_search]\n",
    "tools"
   ]
  },
  {
   "cell_type": "code",
   "execution_count": 13,
   "metadata": {},
   "outputs": [
    {
     "data": {
      "text/plain": [
       "RunnableBinding(bound=ChatOllama(model='llama3.2:3b', base_url='http://localhost:11434'), kwargs={'tools': [{'type': 'function', 'function': {'name': 'internet_search', 'description': 'Search the web for realtime and latest information.\\nfor examples, news, stock market, weather updates etc.\\n\\nArgs:\\nquery: The search query', 'parameters': {'properties': {'query': {'type': 'string'}}, 'required': ['query'], 'type': 'object'}}}, {'type': 'function', 'function': {'name': 'llm_search', 'description': 'Use the LLM model for general and basic information.', 'parameters': {'properties': {'query': {'type': 'string'}}, 'required': ['query'], 'type': 'object'}}}]}, config={}, config_factories=[])"
      ]
     },
     "execution_count": 13,
     "metadata": {},
     "output_type": "execute_result"
    }
   ],
   "source": [
    "llm_with_tools = llm.bind_tools(tools)\n",
    "llm_with_tools"
   ]
  },
  {
   "cell_type": "code",
   "execution_count": 15,
   "metadata": {},
   "outputs": [],
   "source": [
    "class State(TypedDict):\n",
    "    # {\"messages\": [\"your message\"]}\n",
    "    messages: Annotated[list, add_messages]\n",
    "\n",
    "\n",
    "def chatbot(state: State):\n",
    "    response = llm_with_tools.invoke(state[\"messages\"])\n",
    "    return {\"messages\": [response]}"
   ]
  },
  {
   "cell_type": "code",
   "execution_count": 16,
   "metadata": {},
   "outputs": [
    {
     "data": {
      "image/png": "[encoded data removed]",
      "text/plain": [
       "<IPython.core.display.Image object>"
      ]
     },
     "metadata": {},
     "output_type": "display_data"
    }
   ],
   "source": [
    "from langgraph.checkpoint.memory import MemorySaver\n",
    "from IPython.display import display, Image\n",
    "\n",
    "memory = MemorySaver()\n",
    "\n",
    "graph_builder = StateGraph(State)\n",
    "\n",
    "graph_builder.add_node(\"chatbot\", chatbot)\n",
    "tool_node = ToolNode(tools=tools)\n",
    "graph_builder.add_node(\"tools\", tool_node)\n",
    "\n",
    "graph_builder.add_conditional_edges(\"chatbot\", tools_condition)\n",
    "\n",
    "graph_builder.add_edge(\"tools\", \"chatbot\")\n",
    "graph_builder.set_entry_point(\"chatbot\")\n",
    "\n",
    "graph = graph_builder.compile(checkpointer=memory)\n",
    "\n",
    "display(Image(graph.get_graph().draw_mermaid_png()))"
   ]
  },
  {
   "cell_type": "code",
   "execution_count": 17,
   "metadata": {},
   "outputs": [
    {
     "data": {
      "text/plain": [
       "{'messages': [HumanMessage(content='Tell me about the earth in 3 points', additional_kwargs={}, response_metadata={}, id='441be90b-aaf2-49b3-8831-c9ee42d06292'),\n",
       "  AIMessage(content='', additional_kwargs={}, response_metadata={'model': 'llama3.2:3b', 'created_at': '2025-02-04T16:50:02.29765453Z', 'done': True, 'done_reason': 'stop', 'total_duration': 4290722440, 'load_duration': 3802543208, 'prompt_eval_count': 236, 'prompt_eval_duration': 264000000, 'eval_count': 22, 'eval_duration': 221000000, 'message': Message(role='assistant', content='', images=None, tool_calls=None)}, id='run-32395af6-3e53-4e32-a460-dbe0e3e68575-0', tool_calls=[{'name': 'llm_search', 'args': {'query': 'earth facts three key points'}, 'id': 'c50be423-5585-456c-b721-8e5fc711ce8b', 'type': 'tool_call'}], usage_metadata={'input_tokens': 236, 'output_tokens': 22, 'total_tokens': 258}),\n",
       "  ToolMessage(content='content=\"Here are three key points about Earth:\\\\n\\\\n1. **Age and Formation**: The Earth is approximately 4.54 billion years old, formed from the accretion of dust and gas in the solar nebula. It\\'s believed to have undergone several stages of differentiation, including the formation of a crust, mantle, and core.\\\\n\\\\n2. **Atmospheric Composition**: The Earth\\'s atmosphere is composed of about 78% nitrogen, 21% oxygen, and 1% other gases. This unique composition supports life as we know it, with oxygen levels playing a crucial role in supporting photosynthesis and respiration processes.\\\\n\\\\n3. **Unique Features**: The Earth has several distinct features that make it habitable for life, including its liquid water cycle, a stable axial tilt, and a relatively small size compared to other planets. These factors contribute to the planet\\'s ability to support diverse ecosystems and support human life.\" additional_kwargs={} response_metadata={\\'model\\': \\'llama3.2:3b\\', \\'created_at\\': \\'2025-02-04T16:50:04.190918351Z\\', \\'done\\': True, \\'done_reason\\': \\'stop\\', \\'total_duration\\': 1884638690, \\'load_duration\\': 35385387, \\'prompt_eval_count\\': 30, \\'prompt_eval_duration\\': 32000000, \\'eval_count\\': 184, \\'eval_duration\\': 1815000000, \\'message\\': Message(role=\\'assistant\\', content=\\'\\', images=None, tool_calls=None)} id=\\'run-0a5da7ee-1a8c-49e2-adf0-dbbdcf5e4060-0\\' usage_metadata={\\'input_tokens\\': 30, \\'output_tokens\\': 184, \\'total_tokens\\': 214}', name='llm_search', id='59217e09-26f6-4a89-9dfd-64a427352075', tool_call_id='c50be423-5585-456c-b721-8e5fc711ce8b'),\n",
       "  AIMessage(content=\"Here are three key points about Earth:\\n\\n1. The Earth is approximately 4.54 billion years old, formed from the accretion of dust and gas in the solar nebula. It's believed to have undergone several stages of differentiation, including the formation of a crust, mantle, and core.\\n\\n2. The Earth's atmosphere is composed of about 78% nitrogen, 21% oxygen, and 1% other gases. This unique composition supports life as we know it, with oxygen levels playing a crucial role in supporting photosynthesis and respiration processes.\\n\\n3. The Earth has several distinct features that make it habitable for life, including its liquid water cycle, a stable axial tilt, and a relatively small size compared to other planets. These factors contribute to the planet's ability to support diverse ecosystems and support human life.\", additional_kwargs={}, response_metadata={'model': 'llama3.2:3b', 'created_at': '2025-02-04T16:50:07.085341048Z', 'done': True, 'done_reason': 'stop', 'total_duration': 2887544264, 'load_duration': 37776072, 'prompt_eval_count': 468, 'prompt_eval_duration': 21000000, 'eval_count': 169, 'eval_duration': 1761000000, 'message': Message(role='assistant', content=\"Here are three key points about Earth:\\n\\n1. The Earth is approximately 4.54 billion years old, formed from the accretion of dust and gas in the solar nebula. It's believed to have undergone several stages of differentiation, including the formation of a crust, mantle, and core.\\n\\n2. The Earth's atmosphere is composed of about 78% nitrogen, 21% oxygen, and 1% other gases. This unique composition supports life as we know it, with oxygen levels playing a crucial role in supporting photosynthesis and respiration processes.\\n\\n3. The Earth has several distinct features that make it habitable for life, including its liquid water cycle, a stable axial tilt, and a relatively small size compared to other planets. These factors contribute to the planet's ability to support diverse ecosystems and support human life.\", images=None, tool_calls=None)}, id='run-50735044-f792-40c2-b491-ced5134a4bcb-0', usage_metadata={'input_tokens': 468, 'output_tokens': 169, 'total_tokens': 637})]}"
      ]
     },
     "execution_count": 17,
     "metadata": {},
     "output_type": "execute_result"
    }
   ],
   "source": [
    "config = {\"configurable\": {\"thread_id\": 1}}\n",
    "output = graph.invoke({\"messages\": [\"Tell me about the earth in 3 points\"]}, config=config)\n",
    "output"
   ]
  },
  {
   "cell_type": "markdown",
   "metadata": {},
   "source": [
    "# Testing the chatbot"
   ]
  },
  {
   "cell_type": "code",
   "execution_count": 1,
   "metadata": {},
   "outputs": [
    {
     "name": "stdout",
     "output_type": "stream",
     "text": [
      "content=\"I'm just a language model, so I don't have feelings or emotions like humans do. However, I'm functioning properly and ready to help with any questions or tasks you may have! How can I assist you today?\" additional_kwargs={} response_metadata={'model': 'llama3.2:3b', 'created_at': '2025-02-05T16:28:39.365128576Z', 'done': True, 'done_reason': 'stop', 'total_duration': 4559375999, 'load_duration': 3803448885, 'prompt_eval_count': 31, 'prompt_eval_duration': 258000000, 'eval_count': 46, 'eval_duration': 495000000, 'message': Message(role='assistant', content='', images=None, tool_calls=None)} id='run-f50190c3-29e4-4dbc-90c0-f6d78f2bdf86-0' usage_metadata={'input_tokens': 31, 'output_tokens': 46, 'total_tokens': 77}\n"
     ]
    }
   ],
   "source": [
    "from langchain_ollama import ChatOllama\n",
    "\n",
    "model = \"llama3.2:3b\"\n",
    "llm = ChatOllama(model=model, base_url=\"http://localhost:11434\")\n",
    "print(llm.invoke(\"Hello, how are you?\"))"
   ]
  },
  {
   "cell_type": "code",
   "execution_count": 2,
   "metadata": {},
   "outputs": [
    {
     "data": {
      "text/plain": [
       "[Document(metadata={'source': 'rag-dataset\\\\gym supplements\\\\2. High Prevalence of Supplement Intake.pdf', 'file_path': 'rag-dataset\\\\gym supplements\\\\2. High Prevalence of Supplement Intake.pdf', 'page': 8, 'total_pages': 11, 'format': 'PDF 1.5', 'title': '', 'author': '', 'subject': '', 'keywords': '', 'creator': '', 'producer': 'iLovePDF', 'creationDate': '', 'modDate': 'D:20241021113904Z', 'trapped': ''}, page_content='and strength gain among men. We detected more prevalent protein and creatine supplementation\\namong younger compared to older ﬁtness center users, whereas the opposite was found for vitamin\\nsupplementation. Other authors made similar observations [23] and it might reﬂect the diﬀerent\\ntraining goals among age groups, i.e., more focus on strength and muscles among the younger and\\nmore focus on health among the older age groups.\\nComparable to other studies [4], we detected a positive correlation between training frequency\\nand supplement usage. Nevertheless, the correlation is weak and is deﬁnitely not a predictor at the\\nindividual level. The subject with the highest supplement intake of 100 weekly servings was training\\nonly once a week.'),\n",
       " Document(metadata={'source': 'rag-dataset\\\\gym supplements\\\\2. High Prevalence of Supplement Intake.pdf', 'file_path': 'rag-dataset\\\\gym supplements\\\\2. High Prevalence of Supplement Intake.pdf', 'page': 6, 'total_pages': 11, 'format': 'PDF 1.5', 'title': '', 'author': '', 'subject': '', 'keywords': '', 'creator': '', 'producer': 'iLovePDF', 'creationDate': '', 'modDate': 'D:20241021113904Z', 'trapped': ''}, page_content='Nutrients 2020, 12, 2595\\n7 of 13\\n \\n3.3. Training Goals \\nThe three most important training goals of the participating fitness center users were improving \\nhealth, improving strength, and body shaping (Figure 2). Analysis by age showed obvious age effects \\nfor two training goals. Improving health was named by 59%, 60%, 75%, and 89% as a training goal \\namong the four age groups beginning from the youngest to the oldest group. On the other hand, body \\nshaping was named by 69%, 55%, 41%, and 17% among the four age groups.  \\n \\nFigure 2. Training goals. g: Indicates significant gender effect (p < 0.05). Multiple answers were \\npossible. \\n3.4. Reasons for Supplement Intake \\nThe three most important reasons to take supplements were muscle building (49%), improving \\nhealth (47%), and improving sport-specific performance (28%) (Figure 3).  \\nFigure 2. Training goals. g: Indicates signiﬁcant gender eﬀect (p < 0.05). Multiple answers were possible.\\n3.4. Reasons for Supplement Intake'),\n",
       " Document(metadata={'source': 'rag-dataset\\\\gym supplements\\\\2. High Prevalence of Supplement Intake.pdf', 'file_path': 'rag-dataset\\\\gym supplements\\\\2. High Prevalence of Supplement Intake.pdf', 'page': 5, 'total_pages': 11, 'format': 'PDF 1.5', 'title': '', 'author': '', 'subject': '', 'keywords': '', 'creator': '', 'producer': 'iLovePDF', 'creationDate': '', 'modDate': 'D:20241021113904Z', 'trapped': ''}, page_content='for two training goals. Improving health was named by 59%, 60%, 75%, and 89% as a training goal\\namong the four age groups beginning from the youngest to the oldest group. On the other hand, body\\nshaping was named by 69%, 55%, 41%, and 17% among the four age groups.'),\n",
       " Document(metadata={'source': 'rag-dataset\\\\gym supplements\\\\1. Analysis of Actual Fitness Supplement.pdf', 'file_path': 'rag-dataset\\\\gym supplements\\\\1. Analysis of Actual Fitness Supplement.pdf', 'page': 0, 'total_pages': 15, 'format': 'PDF 1.7', 'title': '', 'author': '', 'subject': '', 'keywords': '', 'creator': '', 'producer': 'iLovePDF', 'creationDate': '', 'modDate': 'D:20241021113850Z', 'trapped': ''}, page_content='acids than traditional protein sources. Its numerous benefits have made it a popular choice\\nfor snacks and drinks among consumers [3]. Another widely embraced supplement is\\ncaffeine, which is found in many sports and food supplements. Caffeine reduces perceived\\neffort, minimizes fatigue and pain, and proves to be effective for endurance and high-\\nintensity activities, which is the choice of consumers [4].\\nCreatine monohydrate is another well-known supplement used to gain muscle mass\\nand support performance and recovery. It is known not to increase fat mass and remains\\neffective even when taken in recommended doses [5]. Despite its popularity in the fitness\\nFoods 2024, 13, 1424. https://doi.org/10.3390/foods13091424\\nhttps://www.mdpi.com/journal/foods'),\n",
       " Document(metadata={'source': 'rag-dataset\\\\gym supplements\\\\2. High Prevalence of Supplement Intake.pdf', 'file_path': 'rag-dataset\\\\gym supplements\\\\2. High Prevalence of Supplement Intake.pdf', 'page': 4, 'total_pages': 11, 'format': 'PDF 1.5', 'title': '', 'author': '', 'subject': '', 'keywords': '', 'creator': '', 'producer': 'iLovePDF', 'creationDate': '', 'modDate': 'D:20241021113904Z', 'trapped': ''}, page_content='for two training goals. Improving health was named by 59%, 60%, 75%, and 89% as a training goal \\nFigure 1. Supplement intake vs. training frequency. The scatter density plot and spearman rank\\ncorrelation (mean and 95% conﬁdence interval) of supplement servings per week vs. training frequency\\ngive an rs = 0.253 (p < 0.001).')]"
      ]
     },
     "execution_count": 2,
     "metadata": {},
     "output_type": "execute_result"
    }
   ],
   "source": [
    "from langchain_ollama import OllamaEmbeddings\n",
    "import faiss\n",
    "from langchain_community.vectorstores import FAISS \n",
    "from langchain_community.docstore.in_memory import InMemoryDocstore\n",
    "\n",
    "\n",
    "embeddings = OllamaEmbeddings(\n",
    "    model=\"nomic-embed-text\",\n",
    "    base_url='http://localhost:11434'\n",
    ")\n",
    "\n",
    "db_name = \"health_supplements\"\n",
    "vector_store = FAISS.load_local(db_name, embeddings, allow_dangerous_deserialization=True)\n",
    "\n",
    "retriever = vector_store.as_retriever(search_type=\"similarity\", search_kwargs = {'k': 5})\n",
    "\n",
    "question = \"how to gain muscle mass?\"\n",
    "retriever.invoke(question)"
   ]
  },
  {
   "cell_type": "code",
   "execution_count": 3,
   "metadata": {},
   "outputs": [
    {
     "name": "stdout",
     "output_type": "stream",
     "text": [
      "[Tool(name='health_supplements', description='Search and retrun information about the Health Supplements for workout and gym', args_schema=<class 'langchain_core.tools.retriever.RetrieverInput'>, func=functools.partial(<function _get_relevant_documents at 0x7f6bc8cd2c20>, retriever=VectorStoreRetriever(tags=['FAISS', 'OllamaEmbeddings'], vectorstore=<langchain_community.vectorstores.faiss.FAISS object at 0x7f6b195cc550>, search_kwargs={'k': 5}), document_prompt=PromptTemplate(input_variables=['page_content'], input_types={}, partial_variables={}, template='{page_content}'), document_separator='\\n\\n'), coroutine=functools.partial(<function _aget_relevant_documents at 0x7f6bc8c6c4c0>, retriever=VectorStoreRetriever(tags=['FAISS', 'OllamaEmbeddings'], vectorstore=<langchain_community.vectorstores.faiss.FAISS object at 0x7f6b195cc550>, search_kwargs={'k': 5}), document_prompt=PromptTemplate(input_variables=['page_content'], input_types={}, partial_variables={}, template='{page_content}'), document_separator='\\n\\n'))]\n"
     ]
    }
   ],
   "source": [
    "from langchain.tools.retriever import create_retriever_tool\n",
    "\n",
    "retriever_tool = create_retriever_tool(\n",
    "    retriever,\n",
    "    \"health_supplements\",\n",
    "    \"Search and retrun information about the Health Supplements for workout and gym\",\n",
    ")\n",
    "\n",
    "tools = [retriever_tool]\n",
    "print(tools)"
   ]
  },
  {
   "cell_type": "code",
   "execution_count": 4,
   "metadata": {},
   "outputs": [],
   "source": [
    "from typing import Annotated, Sequence, TypedDict, Literal \n",
    "from langchain_core.messages import BaseMessage\n",
    "from langgraph.graph.message import add_messages"
   ]
  },
  {
   "cell_type": "code",
   "execution_count": 5,
   "metadata": {},
   "outputs": [],
   "source": [
    "class State(TypedDict):\n",
    "    messages: Annotated[Sequence[BaseMessage], add_messages]"
   ]
  },
  {
   "cell_type": "code",
   "execution_count": 6,
   "metadata": {},
   "outputs": [],
   "source": [
    "from langchain import hub\n",
    "from langchain_core.messages import  BaseMessage, HumanMessage\n",
    "from langchain_core.output_parsers import StrOutputParser\n",
    "from langchain_core.prompts import PromptTemplate\n",
    "\n",
    "from pydantic import BaseModel, Field\n",
    "from langgraph.prebuilt import tools_condition"
   ]
  },
  {
   "cell_type": "code",
   "execution_count": 7,
   "metadata": {},
   "outputs": [],
   "source": [
    "def grade_documents(state: State):\n",
    "    class grade(BaseModel):\n",
    "        binary_score: str = Field(description=\"The grade of the document\")\n",
    "    \n",
    "    llm_with_structured_output = llm.with_structured_output(grade)\n",
    "    \n",
    "    prompt = PromptTemplate(\n",
    "        template = \"\"\"\n",
    "            You are a grader assessing relevance of a document to a user question. \\n\n",
    "            Here is the retrived document: \\n\\n {context} \\n\\n\n",
    "            Here is the user question:  {question} \\n\n",
    "            If the document contains keywords or semantic meaing related to the user question, grade it as relevant. \\n\n",
    "            Give a binary score 'yes' or 'no' score to indicate whether the document is relevant to the question. \\n\n",
    "        \"\"\",\n",
    "        input_variables=['context', 'question']\n",
    "    )\n",
    "    chain = prompt | llm_with_structured_output\n",
    "    \n",
    "    message = state[\"messages\"]\n",
    "    last_message = message[-1]\n",
    "    \n",
    "    question = message[0].content\n",
    "    docs = last_message.content\n",
    "    \n",
    "    score_result = chain.invoke({\"context\": docs, \"question\": question})\n",
    "    score = score_result.binary_score    \n",
    "    if score == \"yes\":\n",
    "        return \"generate\"\n",
    "    else:\n",
    "        return \"rewrite\""
   ]
  },
  {
   "cell_type": "code",
   "execution_count": 8,
   "metadata": {},
   "outputs": [],
   "source": [
    "def agent(state):\n",
    "    message = state[\"messages\"]\n",
    "    \n",
    "    llm_with_tools = llm.bind_tools(tools, tool_choice=\"required\")\n",
    "    response = llm_with_tools.invoke(message)\n",
    "    return {\"messages\": [response]}"
   ]
  },
  {
   "cell_type": "code",
   "execution_count": 9,
   "metadata": {},
   "outputs": [],
   "source": [
    "def rewrite(state):\n",
    "    message = state[\"messages\"]\n",
    "    question = message[0].content\n",
    "    \n",
    "    msg = [\n",
    "        HumanMessage(\n",
    "            content = f\"\"\"\\n\n",
    "            Look at the input and try to reason about the underlying semantic intent meaning. \\n\n",
    "            Here is the initial question:\n",
    "            \\n {question} \\n\n",
    "            Formulate an improved question\n",
    "            \"\"\"\n",
    "        )\n",
    "    ]\n",
    "    response = llm.invoke(msg)\n",
    "    return {\"messages\": [response]}\n"
   ]
  },
  {
   "cell_type": "code",
   "execution_count": 10,
   "metadata": {},
   "outputs": [],
   "source": [
    "def generate(state):\n",
    "    message = state[\"messages\"]\n",
    "    question = message[0].content\n",
    "    last_message = message[-1]\n",
    "    docs = last_message.content\n",
    "    \n",
    "    prompt = hub.pull(\"rlm/rag-prompt\") \n",
    "    def format_docs(docs):\n",
    "        return \"\\n\\n\".join(doc.page_content for doc in docs)\n",
    "    \n",
    "    rag_chain = prompt | llm | StrOutputParser()\n",
    "   \n",
    "    response = rag_chain.invoke({\"question\": question, \"context\": docs})\n",
    "    return {\"messages\": [response]}"
   ]
  },
  {
   "cell_type": "code",
   "execution_count": 11,
   "metadata": {},
   "outputs": [],
   "source": [
    "from langgraph.graph import END, START, StateGraph\n",
    "from langgraph.prebuilt import ToolNode"
   ]
  },
  {
   "cell_type": "code",
   "execution_count": 12,
   "metadata": {},
   "outputs": [],
   "source": [
    "graph_builder = StateGraph(State)\n",
    "\n",
    "graph_builder.add_node(\"agent\", agent)\n",
    "retriever = ToolNode([retriever_tool])\n",
    "graph_builder.add_node(\"retriever\", retriever)\n",
    "graph_builder.add_node(\"rewrite\", rewrite)\n",
    "graph_builder.add_node(\"generate\", generate)\n",
    "\n",
    "graph_builder.add_edge(START, \"agent\")\n",
    "graph_builder.add_conditional_edges(\"agent\", tools_condition, {\"tools\": \"retriever\", END:END})\n",
    "graph_builder.add_conditional_edges(\"retriever\", grade_documents)\n",
    "graph_builder.add_edge(\"generate\", END)\n",
    "graph_builder.add_edge(\"rewrite\", \"agent\")\n",
    "\n",
    "graph = graph_builder.compile()"
   ]
  },
  {
   "cell_type": "code",
   "execution_count": 13,
   "metadata": {},
   "outputs": [
    {
     "data": {
      "image/png": "[encoded data removed]",
      "text/plain": [
       "<IPython.core.display.Image object>"
      ]
     },
     "metadata": {},
     "output_type": "display_data"
    }
   ],
   "source": [
    "from IPython.display import Image, display\n",
    "\n",
    "display(Image(graph.get_graph().draw_mermaid_png()))"
   ]
  },
  {
   "cell_type": "code",
   "execution_count": 18,
   "metadata": {},
   "outputs": [
    {
     "name": "stdout",
     "output_type": "stream",
     "text": [
      "\"Output from node 'agent':\"\n",
      "'----'\n",
      "{   'messages': [   AIMessage(content='', additional_kwargs={}, response_metadata={'model': 'llama3.2:3b', 'created_at': '2025-02-05T16:34:35.632157908Z', 'done': True, 'done_reason': 'stop', 'total_duration': 337543506, 'load_duration': 31718343, 'prompt_eval_count': 177, 'prompt_eval_duration': 14000000, 'eval_count': 24, 'eval_duration': 290000000, 'message': Message(role='assistant', content='', images=None, tool_calls=None)}, id='run-a5a8a93d-635c-432a-a7bb-33b6524003ca-0', tool_calls=[{'name': 'health_supplements', 'args': {'query': 'risks of taking too much protein'}, 'id': '47c9effa-9149-4a7d-9dbe-03da32e530ba', 'type': 'tool_call'}], usage_metadata={'input_tokens': 177, 'output_tokens': 24, 'total_tokens': 201})]}\n",
      "'\\n------\\n'\n",
      "\"Output from node 'retriever':\"\n",
      "'----'\n",
      "{   'messages': [   ToolMessage(content='liver oils which also contain vitamin A and multivitamin supplements could result in \\nhypervitaminosis A. Furthermore, fish oils and omega-3 fatty acid supplements may \\nexacerbate anticoagulation and promote bleeding in patients taking anticoagulant \\nmedications such as warfarin (32,33).\\nPROTEIN POWDERS AND INFANT FORMULA\\nProtein powders consisting of the dairy proteins casein, whey and of vegetable proteins in \\nsoy protein isolate (SPI) are popular supplements among athletes and body builders. These \\nproteins are also the basis of infant formulas fed to over 4 million U.S. infants each year. \\nThe dairy proteins appear to have little toxicity except in individuals with allergies to cow’s \\nmilk protein, although excessive consumption may result in ketosis. In contrast, there is an \\nRonis et al.\\nPage 4\\nAnnu Rev Pharmacol Toxicol. Author manuscript; available in PMC 2019 February 19.\\nAuthor Manuscript\\nAuthor Manuscript\\nAuthor Manuscript\\nAuthor Manuscript\\n\\nnourished adults. In contrast, a small number of these products have the potential to produce \\nsignificant toxicity. In addition, it is rare that patients disclose supplement use to their physicians. \\nTherefore, the risk of adverse drug-supplement interactions is significant. An overview of the \\nmajor supplement and nutraceutical classes is presented here together with known toxic effects \\nand potential for drug interactions.\\nKeywords\\nToxicity; multivitamin/multimineral; soy protein isolate; isoflavones; bodybuilding supplements; \\nherb-drug interaction\\nINTRODUCTION\\nDietary supplements are products that are ingested in addition to the regular diet in order to \\nprovide additional health-promoting nutrients. In the US, dietary supplements are defined \\nand regulated according to the Dietary Supplement Health and Education Act (DSHEA) of \\n1994 (1). According to the DSHEA, a dietary supplement is a product that is intended to\\n\\nadditional two studies have suggested increased mortality in smokers consuming β-carotene \\nsupplements (18,19). Excess vitamin A supplementation has been suggested to be associated \\nwith adverse effects on bone health including low bone mineral density and increased \\nfracture risk (20). In addition, women consuming large amounts of vitamin A supplements \\nduring pregnancy have been reported to have increased incidence of congenital \\nabnormalities (21). There is also a case report of intra-hepatic cholestasis in a patient with \\nchronic hypervitaminosis A after 12 years of supplement consumption which resolved after \\nsupplements were ceased (22). In addition to toxicity from excess vitamin consumption, \\ntoxicity can arise from excess consumption of minerals. In particular, there is an increasing \\nrisk of hyperchromatosis, an iron storage disease associated with liver injury after excess \\nconsumption of iron or multimineral supplements (23,24). This can be exacerbated by\\n\\neducated guess of the magnitude of supplement intake, which seems to be even more relevant than the\\nmere prevalence of supplements in use. Future studies should focus more on this parameter to obtain\\nmore data about the scale of supplement intake and not only about the prevalence of supplement users,\\nno matter the extent of use. Our data indicate that a signiﬁcant part of the supplement consumers is\\nsupplementing on a large scale, i.e., 31% use at least 20 supplement servings per week and 10% use 40\\nor more supplement servings per week.\\nProtein supplements represented the most prevalent products, which is in line with other\\nsupplement screening studies [19,23,24]. In line with others [4], we reported a more prevalent protein\\nintake among men compared to women. This correlates with the more prevalent training goal of muscle\\nand strength gain among men. We detected more prevalent protein and creatine supplementation\\n\\nwomen consuming isoflavone supplements (59) and, given the clear evidence of \\nestrogenicity, there is a likelihood of increased risk of estrogen sensitive cancers in \\nconsumers of these products.\\nWEIGHT-LOSS, SPORTS, AND BODYBUILDING SUPPLEMENTS\\nAs more and more of the world population becomes overweight and obese, there is a huge \\nmarket for weight-loss products, including dietary supplements. Among military service \\nmembers, athletes and bodybuilders it is also common to ingest dietary sports supplements \\nintended to burn fat and increase performance, muscle mass or strength. As examples, 53% \\nof active-duty US Army soldiers report using at least one dietary supplement per week (60), \\nand 64% of college students participating in athletics use dietary supplements to enhance \\nperformance (61). The supplements are often proprietary blends of several supposedly \\nnatural ingredients. They are not without risk of adverse effects. In a recent review, it is', name='health_supplements', id='1ab78da7-c800-4f47-bc76-96a7aedbb08a', tool_call_id='47c9effa-9149-4a7d-9dbe-03da32e530ba')]}\n",
      "'\\n------\\n'\n"
     ]
    },
    {
     "name": "stderr",
     "output_type": "stream",
     "text": [
      "/home/namnh1/miniconda3/envs/rag/lib/python3.10/site-packages/langsmith/client.py:261: LangSmithMissingAPIKeyWarning: API key must be provided when using hosted LangSmith API\n",
      "  warnings.warn(\n"
     ]
    },
    {
     "name": "stdout",
     "output_type": "stream",
     "text": [
      "\"Output from node 'generate':\"\n",
      "'----'\n",
      "{   'messages': [   'Taking too much protein can lead to ketosis, a metabolic state where the body breaks down fat for '\n",
      "                    'energy instead of carbohydrates. Excessive protein intake may also exacerbate kidney problems in '\n",
      "                    'individuals with pre-existing kidney issues. Additionally, some protein supplements have been '\n",
      "                    'linked to liver toxicity and hyperchromatosis, an iron storage disease associated with liver '\n",
      "                    'injury.']}\n",
      "'\\n------\\n'\n"
     ]
    }
   ],
   "source": [
    "from pprint import pprint\n",
    "\n",
    "# query = {\"messages\": [HumanMessage(\"How to gain muscle mass?\")]}\n",
    "query = {\"messages\": [HumanMessage(\"what are the risks of taking too much protein?\")]}\n",
    "\n",
    "# query = {\"messages\": [HumanMessage(\"tell me about the langchain\")]}\n",
    "\n",
    "# graph.invoke(query)\n",
    "\n",
    "for output in graph.stream(query):\n",
    "    for key, value in output.items():\n",
    "        pprint(f\"Output from node '{key}':\")\n",
    "        pprint(\"----\")\n",
    "        pprint(value, indent=4, width=120)\n",
    "\n",
    "    pprint(\"\\n------\\n\")"
   ]
  },
  {
   "cell_type": "code",
   "execution_count": null,
   "metadata": {},
   "outputs": [],
   "source": []
  }
 ],
 "metadata": {
  "kernelspec": {
   "display_name": "rag",
   "language": "python",
   "name": "python3"
  },
  "language_info": {
   "codemirror_mode": {
    "name": "ipython",
    "version": 3
   },
   "file_extension": ".py",
   "mimetype": "text/x-python",
   "name": "python",
   "nbconvert_exporter": "python",
   "pygments_lexer": "ipython3",
   "version": "3.10.16"
  }
 },
 "nbformat": 4,
 "nbformat_minor": 2
}
